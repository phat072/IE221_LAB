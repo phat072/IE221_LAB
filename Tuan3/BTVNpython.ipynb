{
 "cells": [
  {
   "cell_type": "markdown",
   "source": [
    "#Cau 4 "
   ],
   "metadata": {
    "collapsed": false
   },
   "id": "a8a1cc314482af1d"
  },
  {
   "cell_type": "code",
   "execution_count": 1,
   "id": "initial_id",
   "metadata": {
    "collapsed": true,
    "ExecuteTime": {
     "end_time": "2024-04-02T01:07:48.641721Z",
     "start_time": "2024-04-02T01:07:48.627191Z"
    }
   },
   "outputs": [],
   "source": [
    "class SoNguyen:\n",
    "    def __init__(self, value):\n",
    "        self.value = value\n",
    "\n",
    "    def add(self, other):\n",
    "        return self.value + other.value\n",
    "\n",
    "    def subtract(self, other):\n",
    "        return self.value - other.value\n",
    "\n",
    "    def multiply(self, other):\n",
    "        return self.value * other.value\n",
    "\n",
    "    def divide(self, other):\n",
    "        if other.value == 0:\n",
    "            return \"Error: Division by zero!\"\n",
    "        return self.value / other.value"
   ]
  },
  {
   "cell_type": "code",
   "outputs": [
    {
     "name": "stdout",
     "output_type": "stream",
     "text": [
      "Addition:  18\n",
      "Subtraction:  2\n",
      "Multiplication:  80\n",
      "Division:  1.25\n"
     ]
    }
   ],
   "source": [
    "# Input two integers\n",
    "num1 = int(input(\"Enter the first integer: \"))\n",
    "num2 = int(input(\"Enter the second integer: \"))\n",
    "\n",
    "# Create SoNguyen objects\n",
    "sn1 = SoNguyen(num1)\n",
    "sn2 = SoNguyen(num2)\n",
    "\n",
    "# Perform operations and print results\n",
    "print(\"Addition: \", sn1.add(sn2))\n",
    "print(\"Subtraction: \", sn1.subtract(sn2))\n",
    "print(\"Multiplication: \", sn1.multiply(sn2))\n",
    "print(\"Division: \", sn1.divide(sn2))"
   ],
   "metadata": {
    "collapsed": false,
    "ExecuteTime": {
     "end_time": "2024-04-02T01:08:10.563151Z",
     "start_time": "2024-04-02T01:08:07.265552Z"
    }
   },
   "id": "6ea9b77fa39af674",
   "execution_count": 3
  },
  {
   "cell_type": "markdown",
   "source": [
    "#Cau 8"
   ],
   "metadata": {
    "collapsed": false
   },
   "id": "d044ddb6fc513c01"
  },
  {
   "cell_type": "code",
   "outputs": [],
   "source": [
    "class MyString:\n",
    "    def __init__(self, value=\"\"):\n",
    "        self.value = value\n",
    "\n",
    "    def set_string(self, value):\n",
    "        self.value = value\n",
    "\n",
    "    def get_string(self):\n",
    "        return self.value\n",
    "\n",
    "    def length(self):\n",
    "        return len(self.value)\n",
    "\n",
    "    def concatenate(self, other):\n",
    "        return self.value + \" \" + other.value\n",
    "\n",
    "    def reverse(self):\n",
    "        return self.value[::-1]"
   ],
   "metadata": {
    "collapsed": false,
    "ExecuteTime": {
     "end_time": "2024-04-02T01:29:44.634538Z",
     "start_time": "2024-04-02T01:29:44.626212Z"
    }
   },
   "id": "d7b6e3d663bc1531",
   "execution_count": 4
  },
  {
   "cell_type": "code",
   "outputs": [
    {
     "name": "stdout",
     "output_type": "stream",
     "text": [
      "String 1:  Em chao thay\n",
      "String 2:  Phuc Toan\n",
      "Length of String 1:  12\n",
      "Concatenation:  Em chao thay Phuc Toan\n",
      "Reverse of String 1:  yaht oahc mE\n",
      "Reverse of String 3:  naoT cuhP yaht oahc mE\n"
     ]
    }
   ],
   "source": [
    "# # Create MyString objects\n",
    "# str1 = MyString(\"Hello\")\n",
    "# str2 = MyString(\"World\")\n",
    "# Create MyString objects\n",
    "str1 = MyString(input(\"Enter the first string: \"))\n",
    "str2 = MyString(input(\"Enter the second string: \"))\n",
    "\n",
    "# Perform operations and print results\n",
    "print(\"String 1: \", str1.get_string())\n",
    "print(\"String 2: \", str2.get_string())\n",
    "print(\"Length of String 1: \", str1.length())\n",
    "print(\"Concatenation: \", str1.concatenate(str2))\n",
    "str3 = MyString(str1.concatenate(str2))\n",
    "print(\"Reverse of String 1: \", str1.reverse())\n",
    "print(\"Reverse of String 3: \", str3.reverse())"
   ],
   "metadata": {
    "collapsed": false,
    "ExecuteTime": {
     "end_time": "2024-04-02T01:31:05.424618Z",
     "start_time": "2024-04-02T01:30:59.218473Z"
    }
   },
   "id": "7773bbd4abd3da76",
   "execution_count": 7
  },
  {
   "cell_type": "markdown",
   "source": [
    "#Cau 20 "
   ],
   "metadata": {
    "collapsed": false
   },
   "id": "3ad4ba831b719963"
  },
  {
   "cell_type": "markdown",
   "source": [],
   "metadata": {
    "collapsed": false
   },
   "id": "dd06af2e5f8a82ea"
  },
  {
   "cell_type": "code",
   "outputs": [],
   "source": [
    "class Employee:\n",
    "    def __init__(self):\n",
    "        self.name = input(\"Enter name: \")\n",
    "        self.dob = input(\"Enter date of birth (YYYY-MM-DD): \")\n",
    "        self.base_salary = int(input(\"Enter base salary: \"))\n",
    "\n",
    "    def get_info(self):\n",
    "        return f\"Name: {self.name}, Date of Birth: {self.dob}, Base Salary: {self.base_salary}\"\n",
    "\n",
    "    def calculate_salary(self):\n",
    "        pass"
   ],
   "metadata": {
    "collapsed": false,
    "ExecuteTime": {
     "end_time": "2024-04-02T01:45:16.289702Z",
     "start_time": "2024-04-02T01:45:16.282658Z"
    }
   },
   "id": "bb4fc7723ce50b13",
   "execution_count": 27
  },
  {
   "cell_type": "code",
   "outputs": [],
   "source": [
    "class OfficeEmployee(Employee):\n",
    "    def __init__(self):\n",
    "        super().__init__()\n",
    "        self.working_days = int(input(\"Enter number of working days: \"))\n",
    "        self.allowance = int(input(\"Enter allowance: \"))\n",
    "\n",
    "    def calculate_salary(self):\n",
    "        return self.base_salary + self.working_days * 100000 + self.allowance\n",
    "\n",
    "\n",
    "class ProductionEmployee(Employee):\n",
    "    def __init__(self):\n",
    "        super().__init__()\n",
    "        self.products = int(input(\"Enter number of products: \"))\n",
    "\n",
    "    def calculate_salary(self):\n",
    "        return self.base_salary + self.products * 2000\n",
    "\n",
    "\n",
    "class ManagerEmployee(Employee):\n",
    "    def __init__(self):\n",
    "        super().__init__()\n",
    "        self.position_factor = float(input(\"Enter position factor: \"))\n",
    "        self.bonus = int(input(\"Enter bonus: \"))\n",
    "\n",
    "    def calculate_salary(self):\n",
    "        return self.base_salary * self.position_factor + self.bonus"
   ],
   "metadata": {
    "collapsed": false,
    "ExecuteTime": {
     "end_time": "2024-04-02T01:45:17.435200Z",
     "start_time": "2024-04-02T01:45:17.423984Z"
    }
   },
   "id": "88135ffb3134f737",
   "execution_count": 28
  },
  {
   "cell_type": "code",
   "outputs": [],
   "source": [
    "class Company:\n",
    "    def __init__(self):\n",
    "        self.employees = []\n",
    "\n",
    "    def add_employee(self, employee):\n",
    "        self.employees.append(employee)\n",
    "\n",
    "    def calculate_total_salary(self):\n",
    "        return sum(employee.calculate_salary() for employee in self.employees)\n",
    "\n",
    "    def find_employee(self, name):\n",
    "        for employee in self.employees:\n",
    "            if employee.name == name:\n",
    "                return employee.get_info()\n",
    "        return \"Employee named \" + name + \" not found\""
   ],
   "metadata": {
    "collapsed": false,
    "ExecuteTime": {
     "end_time": "2024-04-02T01:56:32.406092Z",
     "start_time": "2024-04-02T01:56:32.398057Z"
    }
   },
   "id": "9674cf3edde1371",
   "execution_count": 37
  },
  {
   "cell_type": "code",
   "outputs": [
    {
     "name": "stdout",
     "output_type": "stream",
     "text": [
      "Salary of Dao Dai Chi: 6000000\n",
      "Salary of Tran Le Anh Khoa: 5006000\n",
      "Salary of Phan Ca Phat: 17000000.0\n",
      "Name: Dao Dai Chi, Date of Birth: 2003-07-31, Base Salary: 5000000\n",
      "Name: Tran Le Anh Khoa, Date of Birth: 2003-08-01, Base Salary: 5000000\n",
      "Name: Phan Ca Phat, Date of Birth: 2003-02-07, Base Salary: 10000000\n",
      "Total salary of the company: 28006000.0\n",
      "Name: Tran Le Anh Khoa, Date of Birth: 2003-08-01, Base Salary: 5000000\n",
      "Employee named Nguyen Phuc Toan not found\n"
     ]
    }
   ],
   "source": [
    "# Create a company\n",
    "company = Company()\n",
    "\n",
    "# Input details and create employees\n",
    "for _ in range(int(input(\"Enter the number of office employees: \"))):\n",
    "    employee = OfficeEmployee()\n",
    "    company.add_employee(employee)\n",
    "\n",
    "for _ in range(int(input(\"Enter the number of production employees: \"))):\n",
    "    employee = ProductionEmployee()\n",
    "    company.add_employee(employee)\n",
    "\n",
    "for _ in range(int(input(\"Enter the number of manager employees: \"))):\n",
    "    employee = ManagerEmployee()\n",
    "    company.add_employee(employee)\n",
    "\n",
    "# Calculate and print salary for each employee\n",
    "for employee in company.employees:\n",
    "    print(f\"Salary of {employee.name}: {employee.calculate_salary()}\")\n",
    "\n",
    "# Print information of each employee\n",
    "for employee in company.employees:\n",
    "    print(employee.get_info())\n",
    "\n",
    "# Calculate and print total salary of the company\n",
    "print(f\"Total salary of the company: {company.calculate_total_salary()}\")\n",
    "\n",
    "# Search for an employee by name\n",
    "name = input(\"Enter the name of the employee to search: \")\n",
    "print(company.find_employee(name))\n",
    "name = input(\"Enter the name of the employee to search: \")\n",
    "print(company.find_employee(name))"
   ],
   "metadata": {
    "collapsed": false,
    "ExecuteTime": {
     "end_time": "2024-04-02T01:57:33.626501Z",
     "start_time": "2024-04-02T01:56:33.567336Z"
    }
   },
   "id": "45044f0b77665046",
   "execution_count": 38
  },
  {
   "cell_type": "markdown",
   "source": [
    "#Cau 11"
   ],
   "metadata": {
    "collapsed": false
   },
   "id": "7a10a16c2cbb1482"
  },
  {
   "cell_type": "code",
   "outputs": [],
   "source": [
    "class Point:\n",
    "    def __init__(self, x=0, y=0):\n",
    "        self.x = x\n",
    "        self.y = y\n",
    "\n",
    "    def set_point(self, x, y):\n",
    "        self.x = x\n",
    "        self.y = y\n",
    "\n",
    "    def get_point(self):\n",
    "        return self.x, self.y\n",
    "\n",
    "    def translate(self, dx, dy):\n",
    "        self.x += dx\n",
    "        self.y += dy\n",
    "\n",
    "\n",
    "class Triangle:\n",
    "    def __init__(self, p1, p2, p3):\n",
    "        self.p1 = p1\n",
    "        self.p2 = p2\n",
    "        self.p3 = p3\n",
    "\n",
    "    def translate(self, dx, dy):\n",
    "        self.p1.translate(dx, dy)\n",
    "        self.p2.translate(dx, dy)\n",
    "        self.p3.translate(dx, dy)\n",
    "\n",
    "    def centroid(self):\n",
    "        x = (self.p1.x + self.p2.x + self.p3.x) / 3\n",
    "        y = (self.p1.y + self.p2.y + self.p3.y) / 3\n",
    "        return Point(x, y)\n",
    "\n",
    "\n",
    "class Polygon:\n",
    "    def __init__(self, points):\n",
    "        self.points = points\n",
    "\n",
    "    def translate(self, dx, dy):\n",
    "        for point in self.points:\n",
    "            point.translate(dx, dy)"
   ],
   "metadata": {
    "collapsed": false,
    "ExecuteTime": {
     "end_time": "2024-04-02T01:35:07.091510Z",
     "start_time": "2024-04-02T01:35:07.075689Z"
    }
   },
   "id": "51a88e862683aba7",
   "execution_count": 8
  },
  {
   "cell_type": "code",
   "outputs": [
    {
     "name": "stdout",
     "output_type": "stream",
     "text": [
      "(3, 5)\n",
      "(10, 15)\n",
      "(0.3333333333333333, 0.3333333333333333)\n",
      "(1.3333333333333333, 1.3333333333333333)\n",
      "(0, 0)\n",
      "(2, 1)\n",
      "(3, 3)\n",
      "(3, 4)\n",
      "(4, 4)\n",
      "(5, 4)\n",
      "(5, 5)\n",
      "(4, 5)\n"
     ]
    }
   ],
   "source": [
    "p = Point(3, 5)\n",
    "print(p.get_point())\n",
    "p.translate(7, 10)\n",
    "print(p.get_point())\n",
    "\n",
    "t = Triangle(Point(0, 0), Point(1, 0), Point(0, 1))\n",
    "print(t.centroid().get_point())\n",
    "t.translate(1, 1)\n",
    "print(t.centroid().get_point())\n",
    "\n",
    "poly = Polygon([Point(0, 0), Point(1, 0), Point(1, 1), Point(0, 1)])\n",
    "for point in poly.points:\n",
    "    print(point.get_point())\n",
    "    poly.translate(1, 1)\n",
    "for point in poly.points:\n",
    "    print(point.get_point())"
   ],
   "metadata": {
    "collapsed": false,
    "ExecuteTime": {
     "end_time": "2024-04-02T01:35:09.304958Z",
     "start_time": "2024-04-02T01:35:09.294391Z"
    }
   },
   "id": "b7aaebe73560b523",
   "execution_count": 9
  },
  {
   "cell_type": "markdown",
   "source": [
    "#Cau 31"
   ],
   "metadata": {
    "collapsed": false
   },
   "id": "38a7d2053907c763"
  },
  {
   "cell_type": "markdown",
   "source": [
    "#Cau 29"
   ],
   "metadata": {
    "collapsed": false
   },
   "id": "225c692805424925"
  },
  {
   "cell_type": "code",
   "outputs": [
    {
     "name": "stdout",
     "output_type": "stream",
     "text": [
      "Element with the highest damage:\n",
      "Fire Dragon (Boss): Level 70, Damage 490\n",
      "\n",
      "Comparing damage values:\n",
      "Fire Dragon deals more damage than Martial Artist\n"
     ]
    }
   ],
   "source": [
    "class ClubSect:\n",
    "    def __init__(self, school_name, element):\n",
    "        self.school_name = school_name\n",
    "        self.element = element\n",
    "\n",
    "    def calculate_damage(self, level):\n",
    "        return level * 5\n",
    "\n",
    "    def __str__(self):\n",
    "        return self.school_name\n",
    "\n",
    "\n",
    "class Player:\n",
    "    def __init__(self, Name, CLub, level):\n",
    "        self.name = Name\n",
    "        self.school = CLub\n",
    "        self.level = level\n",
    "\n",
    "    def calculate_damage(self):\n",
    "        return self.school.calculate_damage(self.level)\n",
    "\n",
    "    def attack(self, opponent):\n",
    "        damage = self.calculate_damage()\n",
    "\n",
    "        # Check for elemental advantage/disadvantage\n",
    "        if self.school.element == \"Fire\" and opponent.school.element == \"Metal\":\n",
    "            damage *= 1.1\n",
    "        elif self.school.element == \"Metal\" and opponent.school.element == \"Wood\":\n",
    "            damage *= 1.2\n",
    "        elif self.school.element == \"Wood\" and opponent.school.element == \"Earth\":\n",
    "            damage *= 1.1\n",
    "        elif self.school.element == \"Earth\" and opponent.school.element == \"Water\":\n",
    "            damage *= 1.2\n",
    "        elif self.school.element == \"Water\" and opponent.school.element == \"Fire\":\n",
    "            damage *= 1.1\n",
    "        elif self.school.element == \"Fire\" and opponent.school.element == \"Water\":\n",
    "            damage *= 1.2\n",
    "\n",
    "        opponent.level -= damage\n",
    "        print(f\"{self.name} attacks {opponent.name}, damage: {damage}\")\n",
    "\n",
    "    def __str__(self):\n",
    "        return f\"{self.name} ({self.school}): Level {self.level}, Damage {self.calculate_damage()}\"\n",
    "\n",
    "\n",
    "class Monster:\n",
    "    def __init__(self, Name, Type, level, CLub):\n",
    "        self.name = Name\n",
    "        self.type = Type\n",
    "        self.level = level\n",
    "        self.school = CLub\n",
    "\n",
    "    def calculate_damage(self):\n",
    "        return self.level * (3 if self.type == \"normal\" else 7)\n",
    "\n",
    "    def attack(self, opponent):\n",
    "        damage = self.calculate_damage()\n",
    "\n",
    "        # Check for elemental advantage/disadvantage\n",
    "        if self.school.element == \"Fire\" and opponent.school.element == \"Metal\":\n",
    "            damage *= 1.1\n",
    "        elif self.school.element == \"Metal\" and opponent.school.element == \"Wood\":\n",
    "            damage *= 1.2\n",
    "        elif self.school.element == \"Wood\" and opponent.school.element == \"Earth\":\n",
    "            damage *= 1.1\n",
    "        elif self.school.element == \"Earth\" and opponent.school.element == \"Water\":\n",
    "            damage *= 1.2\n",
    "        elif self.school.element == \"Water\" and opponent.school.element == \"Fire\":\n",
    "            damage *= 1.1\n",
    "        elif self.school.element == \"Fire\" and opponent.school.element == \"Water\":\n",
    "            damage *= 1.2\n",
    "\n",
    "        # Check if damage is greater than current level\n",
    "        if damage > opponent.level:\n",
    "            opponent.level -= damage\n",
    "        else:\n",
    "            opponent.level = 0\n",
    "        print(f\"{self.name} attacks {opponent.name}, damage: {damage}\")\n",
    "\n",
    "    def __str__(self):\n",
    "        return f\"{self.name} ({'Normal' if self.type == 'normal' else 'Boss'}): Level {self.level}, Damage {self.calculate_damage()}\"\n",
    "\n",
    "\n",
    "def find_highest_damage(List):\n",
    "    highest_damage = 0\n",
    "    HighestElement = None\n",
    "\n",
    "    for element in List:\n",
    "        if element.calculate_damage() > highest_damage:\n",
    "            highest_damage = element.calculate_damage()\n",
    "            HighestElement = element\n",
    "\n",
    "    return HighestElement\n",
    "\n",
    "\n",
    "# Create and manage a list of players and monsters\n",
    "player_monster_list = []\n",
    "\n",
    "metal = ClubSect(\"Shaolin\", \"Metal\")\n",
    "fire = ClubSect(\"Beggar's Sect\", \"Fire\")\n",
    "\n",
    "player1 = Player(\"Martial Artist\", metal, 50)\n",
    "monster1 = Monster(\"Fire Dragon\", \"boss\", 70, fire)\n",
    "\n",
    "player_monster_list.append(player1)\n",
    "player_monster_list.append(monster1)\n",
    "\n",
    "# Find the element with the highest damage in the list\n",
    "highest_element = find_highest_damage(player_monster_list)\n",
    "\n",
    "if highest_element:\n",
    "    print(\"Element with the highest damage:\")\n",
    "    print(highest_element)\n",
    "else:\n",
    "    print(\"List is empty.\")\n",
    "\n",
    "# Compare damage values\n",
    "print(\"\\nComparing damage values:\")\n",
    "if player1.calculate_damage() > monster1.calculate_damage():\n",
    "    print(f\"{player1.name} deals more damage than {monster1.name}\")\n",
    "elif player1.calculate_damage() < monster1.calculate_damage():\n",
    "    print(f\"{monster1.name} deals more damage than {player1.name}\")\n",
    "else:\n",
    "    print(\"Both entities deal equal damage\")"
   ],
   "metadata": {
    "collapsed": false,
    "ExecuteTime": {
     "end_time": "2024-04-06T13:17:53.884726Z",
     "start_time": "2024-04-06T13:17:53.873387Z"
    }
   },
   "id": "5272fdcb6ce76a53",
   "execution_count": 1
  },
  {
   "cell_type": "markdown",
   "source": [
    "#Cau 30"
   ],
   "metadata": {
    "collapsed": false
   },
   "id": "c9689c949f294e1a"
  },
  {
   "cell_type": "code",
   "outputs": [
    {
     "name": "stdout",
     "output_type": "stream",
     "text": [
      "Number of rests: 1\n",
      "Highest pitch: G\n"
     ]
    }
   ],
   "source": [
    "class MusicalSymbol:\n",
    "    def __init__(self, duration):\n",
    "        self.duration = duration\n",
    "\n",
    "    def is_rest(self):\n",
    "        return False\n",
    "\n",
    "    def get_pitch(self):\n",
    "        return None\n",
    "\n",
    "class Note(MusicalSymbol):\n",
    "    def __init__(self, pitch, duration):\n",
    "        super().__init__(duration)\n",
    "        self.pitch = pitch\n",
    "\n",
    "    def get_pitch(self):\n",
    "        return self.pitch\n",
    "\n",
    "class Rest(MusicalSymbol):\n",
    "    def __init__(self, duration):\n",
    "        super().__init__(duration)\n",
    "\n",
    "    def is_rest(self):\n",
    "        return True\n",
    "\n",
    "class Composition:\n",
    "    def __init__(self):\n",
    "        self.symbols = []\n",
    "\n",
    "    def add_symbol(self, symbol):\n",
    "        self.symbols.append(symbol)\n",
    "\n",
    "    def count_rests(self):\n",
    "        return sum(symbol.is_rest() for symbol in self.symbols)\n",
    "\n",
    "    def highest_pitch(self):\n",
    "        notes = [symbol for symbol in self.symbols if not symbol.is_rest()]\n",
    "        return max(notes, key=lambda note: note.get_pitch()).get_pitch() if notes else None\n",
    "\n",
    "def count_rests_and_highest_pitch(musical_symbols):\n",
    "    num_rests = sum(1 for symbol in musical_symbols if symbol.is_rest())\n",
    "    non_rest_symbols = [symbol for symbol in musical_symbols if not symbol.is_rest()]\n",
    "    highest_pitch_symbol = max(non_rest_symbols, key=lambda x: x.pitch if x.pitch is not None else float('-inf'))\n",
    "    highest_pitch = highest_pitch_symbol.pitch\n",
    "    return num_rests, highest_pitch\n",
    "\n",
    "def test_music_classes():\n",
    "    composition = Composition()\n",
    "    composition.add_symbol(Note('C', 1))\n",
    "    composition.add_symbol(Note('C', 0.5))\n",
    "    composition.add_symbol(Note('A', 0.5))\n",
    "    composition.add_symbol(Note('G', 0.5))\n",
    "    composition.add_symbol(Rest(1))\n",
    "    composition.add_symbol(Note('D', 0.5))\n",
    "    composition.add_symbol(Note('C', 1))\n",
    "    composition.add_symbol(Note('C', 1))\n",
    "    composition.add_symbol(Note('F', 2))\n",
    "    \n",
    "    print(f\"Number of rests: {composition.count_rests()}\")\n",
    "    print(f\"Highest pitch: {composition.highest_pitch()}\")\n",
    "\n",
    "def main():\n",
    "    test_music_classes()\n",
    "\n",
    "if __name__ == \"__main__\":\n",
    "    main()"
   ],
   "metadata": {
    "collapsed": false,
    "ExecuteTime": {
     "end_time": "2024-04-06T13:26:38.045385Z",
     "start_time": "2024-04-06T13:26:38.034965Z"
    }
   },
   "id": "2142485daef5d9ac",
   "execution_count": 4
  },
  {
   "cell_type": "markdown",
   "source": [
    "#Cau 31"
   ],
   "metadata": {
    "collapsed": false
   },
   "id": "b7a5aa5b4d5bd600"
  },
  {
   "cell_type": "code",
   "outputs": [
    {
     "name": "stdout",
     "output_type": "stream",
     "text": [
      "[R] [H] [E] [A] [G] [A] [E] [H] [R] \n",
      "[ ] [ ] [ ] [ ] [ ] [ ] [ ] [ ] [ ] \n",
      "[ ] [C] [ ] [ ] [ ] [ ] [ ] [C] [ ] \n",
      "[S] [ ] [S] [ ] [S] [ ] [S] [ ] [S] \n",
      "[ ] [ ] [ ] [ ] [ ] [ ] [ ] [ ] [ ] \n",
      "[ ] [ ] [ ] [ ] [ ] [ ] [ ] [ ] [ ] \n",
      "[s] [ ] [s] [ ] [s] [ ] [s] [ ] [s] \n",
      "[ ] [c] [ ] [ ] [ ] [ ] [ ] [c] [ ] \n",
      "[ ] [ ] [ ] [ ] [ ] [ ] [ ] [ ] [ ] \n",
      "[r] [h] [e] [a] [g] [a] [e] [h] [r] \n",
      "Valid moves:\n",
      "(1, 4)\n"
     ]
    }
   ],
   "source": [
    "class Piece:\n",
    "    def __init__(self, color, row, col):\n",
    "        self.color = color\n",
    "        self.row = row\n",
    "        self.col = col\n",
    "\n",
    "    def is_valid_move(self, row, col):\n",
    "        pass\n",
    "    \n",
    "    def print_valid_moves(self):\n",
    "        for i in range(10):\n",
    "            for j in range(9):\n",
    "                if self.is_valid_move(i, j):\n",
    "                    print(f\"({i}, {j})\")\n",
    "\n",
    "\n",
    "class Board:\n",
    "    def __init__(self):\n",
    "        self.board = [[None for _ in range(9)] for _ in range(10)]\n",
    "        self.initialize_board()\n",
    "\n",
    "    def initialize_board(self):\n",
    "        # Generals\n",
    "        self.board[0][4] = General(\"white\", 0, 4)\n",
    "        self.board[9][4] = General(\"black\", 9, 4)\n",
    "        # Advisors\n",
    "        for i in [3, 5]:\n",
    "            self.board[0][i] = Advisor(\"white\", 0, i)\n",
    "            self.board[9][i] = Advisor(\"black\", 9, i)\n",
    "        # Elephants\n",
    "        for i in [2, 6]:\n",
    "            self.board[0][i] = Elephant(\"white\", 0, i)\n",
    "            self.board[9][i] = Elephant(\"black\", 9, i)\n",
    "        # Horses\n",
    "        for i in [1, 7]:\n",
    "            self.board[0][i] = Horse(\"white\", 0, i)\n",
    "            self.board[9][i] = Horse(\"black\", 9, i)\n",
    "        # Chariots\n",
    "        for i in [0, 8]:\n",
    "            self.board[0][i] = Chariot(\"white\", 0, i)\n",
    "            self.board[9][i] = Chariot(\"black\", 9, i)\n",
    "        # Cannons\n",
    "        for i in [1, 7]:\n",
    "            self.board[2][i] = Cannon(\"white\", 2, i)\n",
    "            self.board[7][i] = Cannon(\"black\", 7, i)\n",
    "        # Soldiers\n",
    "        for i in [0, 2, 4, 6, 8]:\n",
    "            self.board[3][i] = Soldier(\"white\", 3, i)\n",
    "            self.board[6][i] = Soldier(\"black\", 6, i)\n",
    "    \n",
    "    def select_piece(self):\n",
    "        # Ask the user to select a piece and print its valid moves\n",
    "        while True:\n",
    "            row = int(input(\"Enter the row of the piece: \"))\n",
    "            col = int(input(\"Enter the column of the piece: \"))\n",
    "            if self.board[row][col] is not None:\n",
    "                print(\"Valid moves:\")\n",
    "                for i in range(10):\n",
    "                    for j in range(9):\n",
    "                        if self.board[row][col].is_valid_move(i, j):\n",
    "                            print(f\"({i}, {j})\")\n",
    "                break\n",
    "            else:\n",
    "                print(\"No piece found at the specified location. Try again.\")\n",
    "    \n",
    "    def print_board(self):\n",
    "        for row in self.board:\n",
    "            for piece in row:\n",
    "                if piece is None:\n",
    "                    print(\"[ ]\", end=\" \")\n",
    "                else:\n",
    "                    print(\"[\" + piece.symbol + \"]\", end=\" \")\n",
    "            print()\n",
    "\n",
    "\n",
    "class General(Piece):\n",
    "    def __init__(self, color, row, col):\n",
    "        super().__init__(color, row, col)\n",
    "        self.symbol = \"G\" if color == \"white\" else \"g\"\n",
    "\n",
    "    def is_valid_move(self, row, col):\n",
    "        if abs(self.row - row) + abs(self.col - col) == 1:\n",
    "            if 3 <= col <= 5:\n",
    "                if (self.color == \"white\" and 0 <= row <= 2) or (self.color == \"black\" and 7 <= row <= 9):\n",
    "                    return True\n",
    "        return False\n",
    "\n",
    "\n",
    "class Advisor(Piece):\n",
    "    def __init__(self, color, row, col):\n",
    "        super().__init__(color, row, col)\n",
    "        self.symbol = \"A\" if color == \"white\" else \"a\"\n",
    "\n",
    "    def is_valid_move(self, row, col):\n",
    "        if abs(self.row - row) == abs(self.col - col) == 1:\n",
    "            if 3 <= col <= 5:\n",
    "                if (self.color == \"white\" and 0 <= row <= 2) or (self.color == \"black\" and 7 <= row <= 9):\n",
    "                    return True\n",
    "        return False\n",
    "\n",
    "\n",
    "class Elephant(Piece):\n",
    "    def __init__(self, color, row, col):\n",
    "        super().__init__(color, row, col)\n",
    "        self.symbol = \"E\" if color == \"white\" else \"e\"\n",
    "\n",
    "    def is_valid_move(self, row, col):\n",
    "        if abs(self.row - row) == abs(self.col - col) == 2:\n",
    "            if (self.color == \"white\" and row < 5) or (self.color == \"black\" and row > 4):\n",
    "                return True\n",
    "        return False\n",
    "\n",
    "\n",
    "class Horse(Piece):\n",
    "    def __init__(self, color, row, col):\n",
    "        super().__init__(color, row, col)\n",
    "        self.symbol = \"H\" if color == \"white\" else \"h\"\n",
    "\n",
    "    def is_valid_move(self, row, col):\n",
    "        if abs(self.row - row) == 2 and abs(self.col - col) == 1:\n",
    "            return True\n",
    "        if abs(self.row - row) == 1 and abs(self.col - col) == 2:\n",
    "            return True\n",
    "        return False\n",
    "\n",
    "\n",
    "class Chariot(Piece):\n",
    "    def __init__(self, color, row, col):\n",
    "        super().__init__(color, row, col)\n",
    "        self.symbol = \"R\" if color == \"white\" else \"r\"\n",
    "\n",
    "    def is_valid_move(self, row, col):\n",
    "        return self.row == row or self.col == col\n",
    "\n",
    "\n",
    "class Cannon(Piece):\n",
    "    def __init__(self, color, row, col):\n",
    "        super().__init__(color, row, col)\n",
    "        self.symbol = \"C\" if color == \"white\" else \"c\"\n",
    "\n",
    "    def is_valid_move(self, row, col):\n",
    "        return self.row == row or self.col == col\n",
    "\n",
    "\n",
    "class Soldier(Piece):\n",
    "    def __init__(self, color, row, col):\n",
    "        super().__init__(color, row, col)\n",
    "        self.symbol = \"S\" if color == \"white\" else \"s\"\n",
    "\n",
    "    def is_valid_move(self, row, col):\n",
    "        if self.color == \"white\":\n",
    "            if self.row < 5 and self.row + 1 == row and self.col == col:\n",
    "                return True\n",
    "            if self.row >= 5 and abs(self.row - row) + abs(self.col - col) == 1:\n",
    "                return True\n",
    "        else:\n",
    "            if self.row > 4 and self.row - 1 == row and self.col == col:\n",
    "                return True\n",
    "            if self.row <= 4 and abs(self.row - row) + abs(self.col - col) == 1:\n",
    "                return True\n",
    "        return False\n",
    "\n",
    "\n",
    "board = Board()\n",
    "board.print_board()\n",
    "\n",
    "# Ask the user to select a piece and print its valid moves\n",
    "board.select_piece()"
   ],
   "metadata": {
    "collapsed": false,
    "ExecuteTime": {
     "end_time": "2024-04-06T13:52:20.942851Z",
     "start_time": "2024-04-06T13:52:18.223097Z"
    }
   },
   "id": "de166a5f47c7e2b4",
   "execution_count": 28
  }
 ],
 "metadata": {
  "kernelspec": {
   "display_name": "Python 3",
   "language": "python",
   "name": "python3"
  },
  "language_info": {
   "codemirror_mode": {
    "name": "ipython",
    "version": 2
   },
   "file_extension": ".py",
   "mimetype": "text/x-python",
   "name": "python",
   "nbconvert_exporter": "python",
   "pygments_lexer": "ipython2",
   "version": "2.7.6"
  }
 },
 "nbformat": 4,
 "nbformat_minor": 5
}
