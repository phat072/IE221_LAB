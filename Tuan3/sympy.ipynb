{
 "cells": [
  {
   "cell_type": "code",
   "id": "initial_id",
   "metadata": {
    "collapsed": true,
    "ExecuteTime": {
     "end_time": "2024-04-07T16:25:57.160668Z",
     "start_time": "2024-04-07T16:25:57.156315Z"
    }
   },
   "source": [
    "from sympy import *"
   ],
   "outputs": [],
   "execution_count": 2
  },
  {
   "cell_type": "code",
   "source": [
    "from sympy.abc import x"
   ],
   "metadata": {
    "collapsed": false,
    "ExecuteTime": {
     "end_time": "2024-04-07T16:25:57.378762Z",
     "start_time": "2024-04-07T16:25:57.369654Z"
    }
   },
   "id": "be536735db04985c",
   "outputs": [],
   "execution_count": 3
  },
  {
   "cell_type": "code",
   "source": [
    "expr = x**2 + 2*x + 5\n",
    "expr.evalf(subs={x:5})"
   ],
   "metadata": {
    "collapsed": false,
    "ExecuteTime": {
     "end_time": "2024-04-07T16:25:57.523437Z",
     "start_time": "2024-04-07T16:25:57.464817Z"
    }
   },
   "id": "f2330897f7a9bed6",
   "outputs": [
    {
     "data": {
      "text/plain": [
       "40.0000000000000"
      ],
      "text/latex": "$\\displaystyle 40.0$"
     },
     "execution_count": 4,
     "metadata": {},
     "output_type": "execute_result"
    }
   ],
   "execution_count": 4
  },
  {
   "cell_type": "code",
   "source": [
    "expr = sin(x)\n",
    "expr.evalf(subs={x:pi})"
   ],
   "metadata": {
    "collapsed": false,
    "ExecuteTime": {
     "end_time": "2024-04-07T16:25:57.570302Z",
     "start_time": "2024-04-07T16:25:57.559333Z"
    }
   },
   "id": "24228940164b95a3",
   "outputs": [
    {
     "data": {
      "text/plain": [
       "0.e-184"
      ],
      "text/latex": "$\\displaystyle 1.0 \\cdot 10^{-184}$"
     },
     "execution_count": 5,
     "metadata": {},
     "output_type": "execute_result"
    }
   ],
   "execution_count": 5
  },
  {
   "cell_type": "code",
   "source": [
    "from sympy.abc import a, b\n",
    "expr = a/b\n",
    "expr.evalf(subs={a:100, b:3})"
   ],
   "metadata": {
    "collapsed": false,
    "ExecuteTime": {
     "end_time": "2024-04-07T16:25:57.639785Z",
     "start_time": "2024-04-07T16:25:57.632944Z"
    }
   },
   "id": "9d29f64636592e92",
   "outputs": [
    {
     "data": {
      "text/plain": [
       "33.3333333333333"
      ],
      "text/latex": "$\\displaystyle 33.3333333333333$"
     },
     "execution_count": 6,
     "metadata": {},
     "output_type": "execute_result"
    }
   ],
   "execution_count": 6
  },
  {
   "cell_type": "code",
   "source": [
    "from sympy.abc import y\n",
    "expr = (x+y)**3\n",
    "\n",
    "expr.expand()"
   ],
   "metadata": {
    "collapsed": false,
    "ExecuteTime": {
     "end_time": "2024-04-07T16:25:57.757549Z",
     "start_time": "2024-04-07T16:25:57.747733Z"
    }
   },
   "id": "909257f38bdd0429",
   "outputs": [
    {
     "data": {
      "text/plain": [
       "x**3 + 3*x**2*y + 3*x*y**2 + y**3"
      ],
      "text/latex": "$\\displaystyle x^{3} + 3 x^{2} y + 3 x y^{2} + y^{3}$"
     },
     "execution_count": 7,
     "metadata": {},
     "output_type": "execute_result"
    }
   ],
   "execution_count": 7
  },
  {
   "cell_type": "code",
   "source": [
    "expr = (x-3)**2 *(2*x+1)\n",
    "expr.expand()"
   ],
   "metadata": {
    "collapsed": false,
    "ExecuteTime": {
     "end_time": "2024-04-07T16:25:57.839995Z",
     "start_time": "2024-04-07T16:25:57.823050Z"
    }
   },
   "id": "3da4db5ee4248d7",
   "outputs": [
    {
     "data": {
      "text/plain": [
       "2*x**3 - 11*x**2 + 12*x + 9"
      ],
      "text/latex": "$\\displaystyle 2 x^{3} - 11 x^{2} + 12 x + 9$"
     },
     "execution_count": 8,
     "metadata": {},
     "output_type": "execute_result"
    }
   ],
   "execution_count": 8
  },
  {
   "cell_type": "code",
   "source": [
    "from sympy.abc import x,y\n",
    "expr = x**3 - 6*x**2*y + 12*x*y**2 - 8*y**3\n",
    "expr.factor()"
   ],
   "metadata": {
    "collapsed": false,
    "ExecuteTime": {
     "end_time": "2024-04-07T16:25:57.948152Z",
     "start_time": "2024-04-07T16:25:57.930334Z"
    }
   },
   "id": "19946eb70f8a3be7",
   "outputs": [
    {
     "data": {
      "text/plain": [
       "(x - 2*y)**3"
      ],
      "text/latex": "$\\displaystyle \\left(x - 2 y\\right)^{3}$"
     },
     "execution_count": 9,
     "metadata": {},
     "output_type": "execute_result"
    }
   ],
   "execution_count": 9
  },
  {
   "cell_type": "code",
   "source": [
    "expr = x**10 + x**5 + 1\n",
    "expr.factor()"
   ],
   "metadata": {
    "collapsed": false,
    "ExecuteTime": {
     "end_time": "2024-04-07T16:25:58.023631Z",
     "start_time": "2024-04-07T16:25:58.010248Z"
    }
   },
   "id": "4dc55af33b6047ef",
   "outputs": [
    {
     "data": {
      "text/plain": [
       "(x**2 + x + 1)*(x**8 - x**7 + x**5 - x**4 + x**3 - x + 1)"
      ],
      "text/latex": "$\\displaystyle \\left(x^{2} + x + 1\\right) \\left(x^{8} - x^{7} + x^{5} - x^{4} + x^{3} - x + 1\\right)$"
     },
     "execution_count": 10,
     "metadata": {},
     "output_type": "execute_result"
    }
   ],
   "execution_count": 10
  },
  {
   "cell_type": "code",
   "source": [
    "solveset(Eq((x**2-x-2)*sqrt(x+1), 0), x, domain=S.Reals)"
   ],
   "metadata": {
    "collapsed": false,
    "ExecuteTime": {
     "end_time": "2024-04-07T16:25:58.165026Z",
     "start_time": "2024-04-07T16:25:58.115313Z"
    }
   },
   "id": "c1ba5652743d6118",
   "outputs": [
    {
     "data": {
      "text/plain": [
       "{-1, 2}"
      ],
      "text/latex": "$\\displaystyle \\left\\{-1, 2\\right\\}$"
     },
     "execution_count": 11,
     "metadata": {},
     "output_type": "execute_result"
    }
   ],
   "execution_count": 11
  },
  {
   "cell_type": "code",
   "source": [
    "solveset(Eq((2*sqrt(2))/(sqrt(x+1))+sqrt(x), sqrt(x+9)), x, domain=S.Reals)"
   ],
   "metadata": {
    "collapsed": false,
    "ExecuteTime": {
     "end_time": "2024-04-07T16:25:58.411416Z",
     "start_time": "2024-04-07T16:25:58.172777Z"
    }
   },
   "id": "ca61a6e3a0b52e9",
   "outputs": [
    {
     "data": {
      "text/plain": [
       "{1/7}"
      ],
      "text/latex": "$\\displaystyle \\left\\{\\frac{1}{7}\\right\\}$"
     },
     "execution_count": 12,
     "metadata": {},
     "output_type": "execute_result"
    }
   ],
   "execution_count": 12
  },
  {
   "cell_type": "code",
   "source": [
    "z = 1/(2-3*I)\n",
    "\n",
    "real_part = re(z)\n",
    "imaginary_part = im(z)\n",
    "\n",
    "real_part, imaginary_part"
   ],
   "metadata": {
    "collapsed": false,
    "ExecuteTime": {
     "end_time": "2024-04-07T16:25:58.421948Z",
     "start_time": "2024-04-07T16:25:58.413366Z"
    }
   },
   "id": "646a5c648135c60e",
   "outputs": [
    {
     "data": {
      "text/plain": [
       "(2/13, 3/13)"
      ]
     },
     "execution_count": 13,
     "metadata": {},
     "output_type": "execute_result"
    }
   ],
   "execution_count": 13
  },
  {
   "cell_type": "code",
   "source": [
    "z = ((4*I)/(1+sqrt(3)*I))**2\n",
    "\n",
    "real_part = re(z)\n",
    "imaginary_part = im(z)\n",
    "\n",
    "real_part, imaginary_part"
   ],
   "metadata": {
    "collapsed": false,
    "ExecuteTime": {
     "end_time": "2024-04-07T16:25:58.453951Z",
     "start_time": "2024-04-07T16:25:58.423650Z"
    }
   },
   "id": "6d059bfa6ecd8d4a",
   "outputs": [
    {
     "data": {
      "text/plain": [
       "(2, 2*sqrt(3))"
      ]
     },
     "execution_count": 14,
     "metadata": {},
     "output_type": "execute_result"
    }
   ],
   "execution_count": 14
  },
  {
   "cell_type": "code",
   "source": [
    "from sympy.logic.boolalg import Or, And, Not, Xor \n",
    "\n",
    "x = True \n",
    "y = True \n",
    "\n",
    "And(x, y)"
   ],
   "metadata": {
    "collapsed": false,
    "ExecuteTime": {
     "end_time": "2024-04-07T16:25:58.463213Z",
     "start_time": "2024-04-07T16:25:58.455809Z"
    }
   },
   "id": "901ac5e462768126",
   "outputs": [
    {
     "data": {
      "text/plain": [
       "True"
      ],
      "text/latex": "$\\displaystyle \\text{True}$"
     },
     "execution_count": 15,
     "metadata": {},
     "output_type": "execute_result"
    }
   ],
   "execution_count": 15
  },
  {
   "cell_type": "code",
   "source": [
    "a = True\n",
    "b = False\n",
    "c = True \n",
    "d = True \n",
    "e = False\n",
    "Xor(a, b, c, d, e)"
   ],
   "metadata": {
    "collapsed": false,
    "ExecuteTime": {
     "end_time": "2024-04-07T16:25:58.562719Z",
     "start_time": "2024-04-07T16:25:58.553289Z"
    }
   },
   "id": "d1c424fdfb5cd4ba",
   "outputs": [
    {
     "data": {
      "text/plain": [
       "True"
      ],
      "text/latex": "$\\displaystyle \\text{True}$"
     },
     "execution_count": 16,
     "metadata": {},
     "output_type": "execute_result"
    }
   ],
   "execution_count": 16
  },
  {
   "cell_type": "code",
   "source": [
    "from sympy.abc import x\n",
    "expr = (E**(2*x) + E**(-2*x) -2)/(x**2)\n",
    "expr.limit(x, 0)"
   ],
   "metadata": {
    "collapsed": false,
    "ExecuteTime": {
     "end_time": "2024-04-07T16:25:58.864305Z",
     "start_time": "2024-04-07T16:25:58.731947Z"
    }
   },
   "id": "82547e1d393d7783",
   "outputs": [
    {
     "data": {
      "text/plain": [
       "4"
      ],
      "text/latex": "$\\displaystyle 4$"
     },
     "execution_count": 17,
     "metadata": {},
     "output_type": "execute_result"
    }
   ],
   "execution_count": 17
  },
  {
   "cell_type": "code",
   "source": [
    "expr = (sqrt(3*x)/(sqrt(5*x+sqrt(5*x+sqrt(5*x)))))\n",
    "expr.limit(x, oo)"
   ],
   "metadata": {
    "collapsed": false,
    "ExecuteTime": {
     "end_time": "2024-04-07T16:25:58.916182Z",
     "start_time": "2024-04-07T16:25:58.865477Z"
    }
   },
   "id": "3104e823be7cb477",
   "outputs": [
    {
     "data": {
      "text/plain": [
       "sqrt(15)/5"
      ],
      "text/latex": "$\\displaystyle \\frac{\\sqrt{15}}{5}$"
     },
     "execution_count": 18,
     "metadata": {},
     "output_type": "execute_result"
    }
   ],
   "execution_count": 18
  },
  {
   "cell_type": "code",
   "source": [
    "expr = (x**2 +1) * E**(-x**2/2)\n",
    "expr.diff(x)"
   ],
   "metadata": {
    "collapsed": false,
    "ExecuteTime": {
     "end_time": "2024-04-07T16:25:58.947707Z",
     "start_time": "2024-04-07T16:25:58.927955Z"
    }
   },
   "id": "66661bd80df05f10",
   "outputs": [
    {
     "data": {
      "text/plain": [
       "-x*(x**2 + 1)*exp(-x**2/2) + 2*x*exp(-x**2/2)"
      ],
      "text/latex": "$\\displaystyle - x \\left(x^{2} + 1\\right) e^{- \\frac{x^{2}}{2}} + 2 x e^{- \\frac{x^{2}}{2}}$"
     },
     "execution_count": 19,
     "metadata": {},
     "output_type": "execute_result"
    }
   ],
   "execution_count": 19
  },
  {
   "cell_type": "code",
   "source": [
    "expr = 1/4 - x**2\n",
    "expr.integrate(x)"
   ],
   "metadata": {
    "collapsed": false,
    "ExecuteTime": {
     "end_time": "2024-04-07T16:25:59.044907Z",
     "start_time": "2024-04-07T16:25:58.998701Z"
    }
   },
   "id": "568bcc535b547325",
   "outputs": [
    {
     "data": {
      "text/plain": [
       "-0.333333333333333*x**3 + 0.25*x"
      ],
      "text/latex": "$\\displaystyle - 0.333333333333333 x^{3} + 0.25 x$"
     },
     "execution_count": 20,
     "metadata": {},
     "output_type": "execute_result"
    }
   ],
   "execution_count": 20
  },
  {
   "cell_type": "code",
   "source": [
    "expr = 1/(x**2 + 1)**2\n",
    "expr.integrate((x, -oo, oo))"
   ],
   "metadata": {
    "collapsed": false,
    "ExecuteTime": {
     "end_time": "2024-04-07T16:25:59.377047Z",
     "start_time": "2024-04-07T16:25:59.086754Z"
    }
   },
   "id": "35a0a224e5a4aa2c",
   "outputs": [
    {
     "data": {
      "text/plain": [
       "pi/2"
      ],
      "text/latex": "$\\displaystyle \\frac{\\pi}{2}$"
     },
     "execution_count": 21,
     "metadata": {},
     "output_type": "execute_result"
    }
   ],
   "execution_count": 21
  },
  {
   "cell_type": "code",
   "source": [
    "expr = 1/(x*ln(x)*(ln(ln(x)))**2)\n",
    "expr.integrate((x, E**2,oo))"
   ],
   "metadata": {
    "collapsed": false,
    "ExecuteTime": {
     "end_time": "2024-04-07T16:25:59.528956Z",
     "start_time": "2024-04-07T16:25:59.380604Z"
    }
   },
   "id": "5db6c446b1cf8ac2",
   "outputs": [
    {
     "data": {
      "text/plain": [
       "1/log(2)"
      ],
      "text/latex": "$\\displaystyle \\frac{1}{\\log{\\left(2 \\right)}}$"
     },
     "execution_count": 22,
     "metadata": {},
     "output_type": "execute_result"
    }
   ],
   "execution_count": 22
  },
  {
   "cell_type": "code",
   "source": [
    "x = Symbol('x')\n",
    "y = Function('y')\n",
    "dsolve(Eq(sqrt(y(x))*y(x).diff(x, 2), y(x)), y(x))"
   ],
   "metadata": {
    "collapsed": false,
    "ExecuteTime": {
     "end_time": "2024-04-07T16:26:41.331558Z",
     "start_time": "2024-04-07T16:25:59.530112Z"
    }
   },
   "id": "e2df90ba52b6318c",
   "outputs": [
    {
     "data": {
      "text/plain": [
       "[Eq(2*y(x)*gamma(2/3)*hyper((1/2, 2/3), (5/3,), 4*exp_polar(I*pi)*y(x)**(3/2)/(3*C1))/(3*sqrt(C1)*gamma(5/3)), C2 + x),\n",
       " Eq(2*y(x)*gamma(2/3)*hyper((1/2, 2/3), (5/3,), 4*exp_polar(I*pi)*y(x)**(3/2)/(3*C1))/(3*sqrt(C1)*gamma(5/3)), C2 - x)]"
      ]
     },
     "execution_count": 23,
     "metadata": {},
     "output_type": "execute_result"
    }
   ],
   "execution_count": 23
  },
  {
   "cell_type": "code",
   "source": [
    "from sympy.abc import x\n",
    "\n",
    "expr = sin(x)/cos(x)\n",
    "expr.trigsimp()"
   ],
   "metadata": {
    "collapsed": false,
    "ExecuteTime": {
     "end_time": "2024-04-07T16:26:41.350810Z",
     "start_time": "2024-04-07T16:26:41.332965Z"
    }
   },
   "id": "376b360a130f0b7d",
   "outputs": [
    {
     "data": {
      "text/plain": [
       "tan(x)"
      ],
      "text/latex": "$\\displaystyle \\tan{\\left(x \\right)}$"
     },
     "execution_count": 24,
     "metadata": {},
     "output_type": "execute_result"
    }
   ],
   "execution_count": 24
  },
  {
   "cell_type": "code",
   "source": [
    "expr = ((1+sin(x))**2 + cos(x)**2)/(1+2*sin(x))\n",
    "expr.trigsimp()"
   ],
   "metadata": {
    "collapsed": false,
    "ExecuteTime": {
     "end_time": "2024-04-07T16:26:41.434610Z",
     "start_time": "2024-04-07T16:26:41.352153Z"
    }
   },
   "id": "eadc5dfefd4825d3",
   "outputs": [
    {
     "data": {
      "text/plain": [
       "2*(sin(x) + 1)/(2*sin(x) + 1)"
      ],
      "text/latex": "$\\displaystyle \\frac{2 \\left(\\sin{\\left(x \\right)} + 1\\right)}{2 \\sin{\\left(x \\right)} + 1}$"
     },
     "execution_count": 25,
     "metadata": {},
     "output_type": "execute_result"
    }
   ],
   "execution_count": 25
  },
  {
   "cell_type": "code",
   "source": [
    "expr = ((1+sin(x))*sin(x)/(1-cos(x)**2) -1)\n",
    "expr.trigsimp()"
   ],
   "metadata": {
    "collapsed": false,
    "ExecuteTime": {
     "end_time": "2024-04-07T16:26:41.491477Z",
     "start_time": "2024-04-07T16:26:41.436373Z"
    }
   },
   "id": "fc245697c42c2a7c",
   "outputs": [
    {
     "data": {
      "text/plain": [
       "1/sin(x)"
      ],
      "text/latex": "$\\displaystyle \\frac{1}{\\sin{\\left(x \\right)}}$"
     },
     "execution_count": 26,
     "metadata": {},
     "output_type": "execute_result"
    }
   ],
   "execution_count": 26
  }
 ],
 "metadata": {
  "kernelspec": {
   "display_name": "Python 3",
   "language": "python",
   "name": "python3"
  },
  "language_info": {
   "codemirror_mode": {
    "name": "ipython",
    "version": 2
   },
   "file_extension": ".py",
   "mimetype": "text/x-python",
   "name": "python",
   "nbconvert_exporter": "python",
   "pygments_lexer": "ipython2",
   "version": "2.7.6"
  }
 },
 "nbformat": 4,
 "nbformat_minor": 5
}
