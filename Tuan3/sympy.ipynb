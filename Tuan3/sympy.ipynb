{
 "cells": [
  {
   "cell_type": "code",
   "execution_count": 1,
   "id": "initial_id",
   "metadata": {
    "collapsed": true,
    "ExecuteTime": {
     "end_time": "2024-04-03T03:54:22.354412Z",
     "start_time": "2024-04-03T03:54:22.058240Z"
    }
   },
   "outputs": [],
   "source": [
    "from sympy import *"
   ]
  },
  {
   "cell_type": "code",
   "outputs": [],
   "source": [
    "from sympy.abc import x"
   ],
   "metadata": {
    "collapsed": false,
    "ExecuteTime": {
     "end_time": "2024-04-03T03:54:24.841153Z",
     "start_time": "2024-04-03T03:54:24.834529Z"
    }
   },
   "id": "be536735db04985c",
   "execution_count": 2
  },
  {
   "cell_type": "code",
   "outputs": [
    {
     "data": {
      "text/plain": "40.0000000000000",
      "text/latex": "$\\displaystyle 40.0$"
     },
     "execution_count": 3,
     "metadata": {},
     "output_type": "execute_result"
    }
   ],
   "source": [
    "expr = x**2 + 2*x + 5\n",
    "expr.evalf(subs={x:5})"
   ],
   "metadata": {
    "collapsed": false,
    "ExecuteTime": {
     "end_time": "2024-04-03T03:54:26.856995Z",
     "start_time": "2024-04-03T03:54:26.815255Z"
    }
   },
   "id": "f2330897f7a9bed6",
   "execution_count": 3
  },
  {
   "cell_type": "code",
   "outputs": [
    {
     "data": {
      "text/plain": "0.e-184",
      "text/latex": "$\\displaystyle 1.0 \\cdot 10^{-184}$"
     },
     "execution_count": 4,
     "metadata": {},
     "output_type": "execute_result"
    }
   ],
   "source": [
    "expr = sin(x)\n",
    "expr.evalf(subs={x:pi})"
   ],
   "metadata": {
    "collapsed": false,
    "ExecuteTime": {
     "end_time": "2024-04-03T03:55:29.227261Z",
     "start_time": "2024-04-03T03:55:29.217864Z"
    }
   },
   "id": "24228940164b95a3",
   "execution_count": 4
  },
  {
   "cell_type": "code",
   "outputs": [
    {
     "data": {
      "text/plain": "33.3333333333333",
      "text/latex": "$\\displaystyle 33.3333333333333$"
     },
     "execution_count": 5,
     "metadata": {},
     "output_type": "execute_result"
    }
   ],
   "source": [
    "from sympy.abc import a, b\n",
    "expr = a/b\n",
    "expr.evalf(subs={a:100, b:3})"
   ],
   "metadata": {
    "collapsed": false,
    "ExecuteTime": {
     "end_time": "2024-04-03T03:56:23.755127Z",
     "start_time": "2024-04-03T03:56:23.749879Z"
    }
   },
   "id": "9d29f64636592e92",
   "execution_count": 5
  },
  {
   "cell_type": "code",
   "outputs": [
    {
     "data": {
      "text/plain": "x**3 + 3*x**2*y + 3*x*y**2 + y**3",
      "text/latex": "$\\displaystyle x^{3} + 3 x^{2} y + 3 x y^{2} + y^{3}$"
     },
     "execution_count": 7,
     "metadata": {},
     "output_type": "execute_result"
    }
   ],
   "source": [
    "from sympy.abc import y\n",
    "expr = (x+y)**3\n",
    "\n",
    "expr.expand()"
   ],
   "metadata": {
    "collapsed": false,
    "ExecuteTime": {
     "end_time": "2024-04-03T04:01:01.922108Z",
     "start_time": "2024-04-03T04:01:01.916183Z"
    }
   },
   "id": "909257f38bdd0429",
   "execution_count": 7
  },
  {
   "cell_type": "code",
   "outputs": [
    {
     "data": {
      "text/plain": "2*x**3 - 11*x**2 + 12*x + 9",
      "text/latex": "$\\displaystyle 2 x^{3} - 11 x^{2} + 12 x + 9$"
     },
     "execution_count": 8,
     "metadata": {},
     "output_type": "execute_result"
    }
   ],
   "source": [
    "expr = (x-3)**2 *(2*x+1)\n",
    "expr.expand()"
   ],
   "metadata": {
    "collapsed": false,
    "ExecuteTime": {
     "end_time": "2024-04-03T04:04:10.545457Z",
     "start_time": "2024-04-03T04:04:10.532200Z"
    }
   },
   "id": "3da4db5ee4248d7",
   "execution_count": 8
  },
  {
   "cell_type": "code",
   "outputs": [
    {
     "data": {
      "text/plain": "(x - 2*y)**3",
      "text/latex": "$\\displaystyle \\left(x - 2 y\\right)^{3}$"
     },
     "execution_count": 11,
     "metadata": {},
     "output_type": "execute_result"
    }
   ],
   "source": [
    "from sympy.abc import x,y\n",
    "expr = x**3 - 6*x**2*y + 12*x*y**2 - 8*y**3\n",
    "expr.factor()"
   ],
   "metadata": {
    "collapsed": false,
    "ExecuteTime": {
     "end_time": "2024-04-03T04:08:29.967650Z",
     "start_time": "2024-04-03T04:08:29.952816Z"
    }
   },
   "id": "19946eb70f8a3be7",
   "execution_count": 11
  },
  {
   "cell_type": "code",
   "outputs": [
    {
     "data": {
      "text/plain": "(x**2 + x + 1)*(x**8 - x**7 + x**5 - x**4 + x**3 - x + 1)",
      "text/latex": "$\\displaystyle \\left(x^{2} + x + 1\\right) \\left(x^{8} - x^{7} + x^{5} - x^{4} + x^{3} - x + 1\\right)$"
     },
     "execution_count": 17,
     "metadata": {},
     "output_type": "execute_result"
    }
   ],
   "source": [
    "expr = x**10 + x**5 + 1\n",
    "expr.factor()"
   ],
   "metadata": {
    "collapsed": false,
    "ExecuteTime": {
     "end_time": "2024-04-03T04:19:57.236357Z",
     "start_time": "2024-04-03T04:19:57.226764Z"
    }
   },
   "id": "4dc55af33b6047ef",
   "execution_count": 17
  },
  {
   "cell_type": "code",
   "outputs": [
    {
     "data": {
      "text/plain": "{-1, 2}",
      "text/latex": "$\\displaystyle \\left\\{-1, 2\\right\\}$"
     },
     "execution_count": 16,
     "metadata": {},
     "output_type": "execute_result"
    }
   ],
   "source": [
    "solveset(Eq((x**2-x-2)*sqrt(x+1), 0), x, domain=S.Reals)"
   ],
   "metadata": {
    "collapsed": false,
    "ExecuteTime": {
     "end_time": "2024-04-03T04:19:56.056992Z",
     "start_time": "2024-04-03T04:19:56.042111Z"
    }
   },
   "id": "c1ba5652743d6118",
   "execution_count": 16
  },
  {
   "cell_type": "code",
   "outputs": [
    {
     "data": {
      "text/plain": "{1/7}",
      "text/latex": "$\\displaystyle \\left\\{\\frac{1}{7}\\right\\}$"
     },
     "execution_count": 18,
     "metadata": {},
     "output_type": "execute_result"
    }
   ],
   "source": [
    "solveset(Eq((2*sqrt(2))/(sqrt(x+1))+sqrt(x), sqrt(x+9)), x, domain=S.Reals)"
   ],
   "metadata": {
    "collapsed": false,
    "ExecuteTime": {
     "end_time": "2024-04-03T04:20:55.186874Z",
     "start_time": "2024-04-03T04:20:55.129295Z"
    }
   },
   "id": "ca61a6e3a0b52e9",
   "execution_count": 18
  },
  {
   "cell_type": "code",
   "outputs": [
    {
     "data": {
      "text/plain": "(2/13, 3/13)"
     },
     "execution_count": 20,
     "metadata": {},
     "output_type": "execute_result"
    }
   ],
   "source": [
    "z = 1/(2-3*I)\n",
    "\n",
    "real_part = re(z)\n",
    "imaginary_part = im(z)\n",
    "\n",
    "real_part, imaginary_part"
   ],
   "metadata": {
    "collapsed": false,
    "ExecuteTime": {
     "end_time": "2024-04-03T04:25:10.524759Z",
     "start_time": "2024-04-03T04:25:10.519839Z"
    }
   },
   "id": "646a5c648135c60e",
   "execution_count": 20
  },
  {
   "cell_type": "code",
   "outputs": [
    {
     "data": {
      "text/plain": "(2, 2*sqrt(3))"
     },
     "execution_count": 23,
     "metadata": {},
     "output_type": "execute_result"
    }
   ],
   "source": [
    "z = ((4*I)/(1+sqrt(3)*I))**2\n",
    "\n",
    "real_part = re(z)\n",
    "imaginary_part = im(z)\n",
    "\n",
    "real_part, imaginary_part"
   ],
   "metadata": {
    "collapsed": false,
    "ExecuteTime": {
     "end_time": "2024-04-03T04:26:55.576884Z",
     "start_time": "2024-04-03T04:26:55.572367Z"
    }
   },
   "id": "6d059bfa6ecd8d4a",
   "execution_count": 23
  },
  {
   "cell_type": "code",
   "outputs": [
    {
     "data": {
      "text/plain": "True",
      "text/latex": "$\\displaystyle \\text{True}$"
     },
     "execution_count": 24,
     "metadata": {},
     "output_type": "execute_result"
    }
   ],
   "source": [
    "from sympy.logic.boolalg import Or, And, Not, Xor \n",
    "\n",
    "x = True \n",
    "y = True \n",
    "\n",
    "And(x, y)"
   ],
   "metadata": {
    "collapsed": false,
    "ExecuteTime": {
     "end_time": "2024-04-03T04:30:59.697872Z",
     "start_time": "2024-04-03T04:30:59.694140Z"
    }
   },
   "id": "901ac5e462768126",
   "execution_count": 24
  },
  {
   "cell_type": "code",
   "outputs": [
    {
     "data": {
      "text/plain": "True",
      "text/latex": "$\\displaystyle \\text{True}$"
     },
     "execution_count": 26,
     "metadata": {},
     "output_type": "execute_result"
    }
   ],
   "source": [
    "a = True\n",
    "b = False\n",
    "c = True \n",
    "d = True \n",
    "e = False\n",
    "Xor(a, b, c, d, e)"
   ],
   "metadata": {
    "collapsed": false,
    "ExecuteTime": {
     "end_time": "2024-04-03T04:32:22.822920Z",
     "start_time": "2024-04-03T04:32:22.819072Z"
    }
   },
   "id": "d1c424fdfb5cd4ba",
   "execution_count": 26
  },
  {
   "cell_type": "code",
   "outputs": [
    {
     "data": {
      "text/plain": "4",
      "text/latex": "$\\displaystyle 4$"
     },
     "execution_count": 33,
     "metadata": {},
     "output_type": "execute_result"
    }
   ],
   "source": [
    "from sympy.abc import x\n",
    "expr = (E**(2*x) + E**(-2*x) -2)/(x**2)\n",
    "expr.limit(x, 0)"
   ],
   "metadata": {
    "collapsed": false,
    "ExecuteTime": {
     "end_time": "2024-04-03T04:35:09.467230Z",
     "start_time": "2024-04-03T04:35:09.463523Z"
    }
   },
   "id": "82547e1d393d7783",
   "execution_count": 33
  },
  {
   "cell_type": "code",
   "outputs": [
    {
     "data": {
      "text/plain": "sqrt(15)/5",
      "text/latex": "$\\displaystyle \\frac{\\sqrt{15}}{5}$"
     },
     "execution_count": 34,
     "metadata": {},
     "output_type": "execute_result"
    }
   ],
   "source": [
    "expr = (sqrt(3*x)/(sqrt(5*x+sqrt(5*x+sqrt(5*x)))))\n",
    "expr.limit(x, oo)"
   ],
   "metadata": {
    "collapsed": false,
    "ExecuteTime": {
     "end_time": "2024-04-03T04:36:26.797252Z",
     "start_time": "2024-04-03T04:36:26.758896Z"
    }
   },
   "id": "3104e823be7cb477",
   "execution_count": 34
  }
 ],
 "metadata": {
  "kernelspec": {
   "display_name": "Python 3",
   "language": "python",
   "name": "python3"
  },
  "language_info": {
   "codemirror_mode": {
    "name": "ipython",
    "version": 2
   },
   "file_extension": ".py",
   "mimetype": "text/x-python",
   "name": "python",
   "nbconvert_exporter": "python",
   "pygments_lexer": "ipython2",
   "version": "2.7.6"
  }
 },
 "nbformat": 4,
 "nbformat_minor": 5
}
