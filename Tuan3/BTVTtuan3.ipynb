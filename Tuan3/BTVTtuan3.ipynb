{
 "cells": [
  {
   "metadata": {},
   "cell_type": "markdown",
   "source": [
    "# Part 1: Algebra\n",
    "### Exercise 1.1: Calculate the value of the following expressions:"
   ],
   "id": "ac7165a1b8d44197"
  },
  {
   "metadata": {
    "ExecuteTime": {
     "end_time": "2024-04-07T16:52:52.100926Z",
     "start_time": "2024-04-07T16:52:52.098016Z"
    }
   },
   "cell_type": "code",
   "source": "from sympy import *",
   "id": "97b654b49f0c4b91",
   "outputs": [],
   "execution_count": 10
  },
  {
   "metadata": {
    "ExecuteTime": {
     "end_time": "2024-04-07T16:52:52.130838Z",
     "start_time": "2024-04-07T16:52:52.125853Z"
    }
   },
   "cell_type": "code",
   "source": [
    "from sympy.abc import x\n",
    "#h\n",
    "expr = 5*x**3 + 2*x**4 - x**2 + 3*x**2 - x**3 - x**4 + 1 - 4*x**3\n",
    "expr.evalf(subs={x:-1})"
   ],
   "id": "a65c30d9a5b26710",
   "outputs": [
    {
     "data": {
      "text/plain": [
       "4.00000000000000"
      ],
      "text/latex": "$\\displaystyle 4.0$"
     },
     "execution_count": 11,
     "metadata": {},
     "output_type": "execute_result"
    }
   ],
   "execution_count": 11
  },
  {
   "metadata": {
    "ExecuteTime": {
     "end_time": "2024-04-07T16:52:52.153849Z",
     "start_time": "2024-04-07T16:52:52.145902Z"
    }
   },
   "cell_type": "code",
   "source": [
    "#i\n",
    "expr1 = sin(x)/x + 1/2*(cos(x)) - 2/tan(x)**2\n",
    "expr.evalf(subs={x:pi/3})"
   ],
   "id": "3b69320a76151fcf",
   "outputs": [
    {
     "data": {
      "text/plain": [
       "4.39582679325446"
      ],
      "text/latex": "$\\displaystyle 4.39582679325446$"
     },
     "execution_count": 12,
     "metadata": {},
     "output_type": "execute_result"
    }
   ],
   "execution_count": 12
  },
  {
   "metadata": {},
   "cell_type": "markdown",
   "source": "### Exercise 1.2: Expand the following polynomials:",
   "id": "52a90146e592045b"
  },
  {
   "metadata": {
    "ExecuteTime": {
     "end_time": "2024-04-07T16:52:52.170846Z",
     "start_time": "2024-04-07T16:52:52.155508Z"
    }
   },
   "cell_type": "code",
   "source": [
    "#h, i, j\n",
    "from sympy.abc import x,y,z\n",
    "A8 = 5*(0.2*x**2 - 3*x)*(x**2 - 7*x + 3)\n",
    "A9 = 12*x**2*y**2*(2*x + y)*(2*x - y)\n",
    "A10 = (x**3 + x**2*y + x*y**2 + y**3)*(x - y)\n",
    "\n",
    "A8.expand()"
   ],
   "id": "b721249aa6aa94c6",
   "outputs": [
    {
     "data": {
      "text/plain": [
       "x**4 - 22*x**3 + 108*x**2 - 45*x"
      ],
      "text/latex": "$\\displaystyle x^{4} - 22 x^{3} + 108 x^{2} - 45 x$"
     },
     "execution_count": 13,
     "metadata": {},
     "output_type": "execute_result"
    }
   ],
   "execution_count": 13
  },
  {
   "metadata": {
    "ExecuteTime": {
     "end_time": "2024-04-07T16:52:52.183231Z",
     "start_time": "2024-04-07T16:52:52.172014Z"
    }
   },
   "cell_type": "code",
   "source": "A9.expand()",
   "id": "7d60dff68e8ad3af",
   "outputs": [
    {
     "data": {
      "text/plain": [
       "48*x**4*y**2 - 12*x**2*y**4"
      ],
      "text/latex": "$\\displaystyle 48 x^{4} y^{2} - 12 x^{2} y^{4}$"
     },
     "execution_count": 14,
     "metadata": {},
     "output_type": "execute_result"
    }
   ],
   "execution_count": 14
  },
  {
   "metadata": {
    "ExecuteTime": {
     "end_time": "2024-04-07T16:52:52.198831Z",
     "start_time": "2024-04-07T16:52:52.192446Z"
    }
   },
   "cell_type": "code",
   "source": "A10.expand()",
   "id": "7893590735ef8872",
   "outputs": [
    {
     "data": {
      "text/plain": [
       "x**4 - y**4"
      ],
      "text/latex": "$\\displaystyle x^{4} - y^{4}$"
     },
     "execution_count": 15,
     "metadata": {},
     "output_type": "execute_result"
    }
   ],
   "execution_count": 15
  },
  {
   "metadata": {},
   "cell_type": "markdown",
   "source": "### Exercise 1.3: Factorize the following polynomials:",
   "id": "be6a5f415c30dbb7"
  },
  {
   "metadata": {
    "ExecuteTime": {
     "end_time": "2024-04-07T16:52:52.206126Z",
     "start_time": "2024-04-07T16:52:52.200272Z"
    }
   },
   "cell_type": "code",
   "source": [
    "from sympy.abc import x, y, a, b, z\n",
    "\n",
    "#h, i, j, f\n",
    "B6 = 5*x**2*y*z + 5*x*y**2*z - 5*x*y*z \n",
    "B8 = 4*x**2 - 25 + (2*x + 7)*(5 - 2*x)\n",
    "B9 = a*x - b*x - a**2 + 2*a*b - b**2\n",
    "B10 = x**10 + x**5 + 1"
   ],
   "id": "4bfda5fd0e58778e",
   "outputs": [],
   "execution_count": 16
  },
  {
   "metadata": {
    "ExecuteTime": {
     "end_time": "2024-04-07T16:52:52.221405Z",
     "start_time": "2024-04-07T16:52:52.211407Z"
    }
   },
   "cell_type": "code",
   "source": "B8.factor()",
   "id": "63c4dc9450f694d4",
   "outputs": [
    {
     "data": {
      "text/plain": [
       "-2*(2*x - 5)"
      ],
      "text/latex": "$\\displaystyle - 2 \\cdot \\left(2 x - 5\\right)$"
     },
     "execution_count": 17,
     "metadata": {},
     "output_type": "execute_result"
    }
   ],
   "execution_count": 17
  },
  {
   "metadata": {
    "ExecuteTime": {
     "end_time": "2024-04-07T16:52:52.236816Z",
     "start_time": "2024-04-07T16:52:52.225268Z"
    }
   },
   "cell_type": "code",
   "source": "B9.factor()",
   "id": "8f150061297c41b3",
   "outputs": [
    {
     "data": {
      "text/plain": [
       "(a - b)*(-a + b + x)"
      ],
      "text/latex": "$\\displaystyle \\left(a - b\\right) \\left(- a + b + x\\right)$"
     },
     "execution_count": 18,
     "metadata": {},
     "output_type": "execute_result"
    }
   ],
   "execution_count": 18
  },
  {
   "metadata": {
    "ExecuteTime": {
     "end_time": "2024-04-07T16:52:52.272982Z",
     "start_time": "2024-04-07T16:52:52.261732Z"
    }
   },
   "cell_type": "code",
   "source": "B10.factor()",
   "id": "228a53e758c107ca",
   "outputs": [
    {
     "data": {
      "text/plain": [
       "(x**2 + x + 1)*(x**8 - x**7 + x**5 - x**4 + x**3 - x + 1)"
      ],
      "text/latex": "$\\displaystyle \\left(x^{2} + x + 1\\right) \\left(x^{8} - x^{7} + x^{5} - x^{4} + x^{3} - x + 1\\right)$"
     },
     "execution_count": 19,
     "metadata": {},
     "output_type": "execute_result"
    }
   ],
   "execution_count": 19
  },
  {
   "metadata": {
    "ExecuteTime": {
     "end_time": "2024-04-07T16:52:52.284816Z",
     "start_time": "2024-04-07T16:52:52.274674Z"
    }
   },
   "cell_type": "code",
   "source": "B6.factor()",
   "id": "72444efc44456f29",
   "outputs": [
    {
     "data": {
      "text/plain": [
       "5*x*y*z*(x + y - 1)"
      ],
      "text/latex": "$\\displaystyle 5 x y z \\left(x + y - 1\\right)$"
     },
     "execution_count": 20,
     "metadata": {},
     "output_type": "execute_result"
    }
   ],
   "execution_count": 20
  },
  {
   "metadata": {},
   "cell_type": "markdown",
   "source": "### Exercise 1.4: Solve the following algebraic equations on the set of real numbers:",
   "id": "a1c969ad3ba74e0e"
  },
  {
   "metadata": {
    "ExecuteTime": {
     "end_time": "2024-04-07T16:52:52.314895Z",
     "start_time": "2024-04-07T16:52:52.285990Z"
    }
   },
   "cell_type": "code",
   "source": [
    "from sympy.abc import x, y, z\n",
    "#f\n",
    "solveset(Eq(x*(x**2-1) , sqrt(2)), x, domain=S.Reals)"
   ],
   "id": "8f6573743773e9d3",
   "outputs": [
    {
     "data": {
      "text/plain": [
       "{sqrt(2)}"
      ],
      "text/latex": "$\\displaystyle \\left\\{\\sqrt{2}\\right\\}$"
     },
     "execution_count": 21,
     "metadata": {},
     "output_type": "execute_result"
    }
   ],
   "execution_count": 21
  },
  {
   "metadata": {
    "ExecuteTime": {
     "end_time": "2024-04-07T16:54:16.092839Z",
     "start_time": "2024-04-07T16:54:15.236233Z"
    }
   },
   "cell_type": "code",
   "source": [
    "#g\n",
    "solveset(Eq(((8*x**3+2001)/2002)**3, (4004*x-2001)), x, domain=S.Reals)"
   ],
   "id": "ef2193442e7f1b88",
   "outputs": [
    {
     "data": {
      "text/plain": [
       "{1/2, -1/4 + sqrt(8005)/4, -sqrt(8005)/4 - 1/4}"
      ],
      "text/latex": "$\\displaystyle \\left\\{\\frac{1}{2}, - \\frac{1}{4} + \\frac{\\sqrt{8005}}{4}, - \\frac{\\sqrt{8005}}{4} - \\frac{1}{4}\\right\\}$"
     },
     "execution_count": 22,
     "metadata": {},
     "output_type": "execute_result"
    }
   ],
   "execution_count": 22
  },
  {
   "metadata": {
    "ExecuteTime": {
     "end_time": "2024-04-07T16:55:16.996035Z",
     "start_time": "2024-04-07T16:55:16.971144Z"
    }
   },
   "cell_type": "code",
   "source": [
    "#j\n",
    "solveset(Eq(2*sqrt(2)/sqrt(x+1) +sqrt(x), sqrt(x+9)), x, domain=S.Reals)"
   ],
   "id": "603c7e07043cd2c8",
   "outputs": [
    {
     "data": {
      "text/plain": [
       "{1/7}"
      ],
      "text/latex": "$\\displaystyle \\left\\{\\frac{1}{7}\\right\\}$"
     },
     "execution_count": 24,
     "metadata": {},
     "output_type": "execute_result"
    }
   ],
   "execution_count": 24
  },
  {
   "metadata": {},
   "cell_type": "markdown",
   "source": "### Exercise 1.5: Determine the real and imaginary parts of the results of the following complex number calculations:",
   "id": "a2650b5132d1554f"
  },
  {
   "metadata": {
    "ExecuteTime": {
     "end_time": "2024-04-07T16:58:41.290471Z",
     "start_time": "2024-04-07T16:58:41.286453Z"
    }
   },
   "cell_type": "code",
   "source": [
    "#j\n",
    "Z = (4*I/1+sqrt(3)*I)**2\n",
    "\n",
    "real_part = re(Z)\n",
    "imaginary_part = im(Z)\n",
    "\n",
    "real_part, imaginary_part"
   ],
   "id": "c0b5ea245a1d8df0",
   "outputs": [
    {
     "data": {
      "text/plain": [
       "((sqrt(3)*I + 4*I)**2, 0)"
      ]
     },
     "execution_count": 31,
     "metadata": {},
     "output_type": "execute_result"
    }
   ],
   "execution_count": 31
  },
  {
   "metadata": {
    "ExecuteTime": {
     "end_time": "2024-04-07T16:59:11.238194Z",
     "start_time": "2024-04-07T16:59:11.215328Z"
    }
   },
   "cell_type": "code",
   "source": [
    "#e \n",
    "Z = (-1/2 + sqrt(3)/2*I)**2\n",
    "\n",
    "real_part = re(Z)\n",
    "imaginary_part = im(Z)\n",
    "\n",
    "real_part, imaginary_part"
   ],
   "id": "e99ad2f4bfae805f",
   "outputs": [
    {
     "data": {
      "text/plain": [
       "(-0.500000000000000, -0.5*sqrt(3))"
      ]
     },
     "execution_count": 32,
     "metadata": {},
     "output_type": "execute_result"
    }
   ],
   "execution_count": 32
  },
  {
   "metadata": {
    "ExecuteTime": {
     "end_time": "2024-04-07T16:59:56.270123Z",
     "start_time": "2024-04-07T16:59:56.263965Z"
    }
   },
   "cell_type": "code",
   "source": [
    "#i \n",
    "Z = (2-3*I)**2\n",
    "\n",
    "real_part = re(Z)\n",
    "imaginary_part = im(Z)\n",
    "\n",
    "real_part, imaginary_part"
   ],
   "id": "d838de30b7719db1",
   "outputs": [
    {
     "data": {
      "text/plain": [
       "(-5, -12)"
      ]
     },
     "execution_count": 33,
     "metadata": {},
     "output_type": "execute_result"
    }
   ],
   "execution_count": 33
  },
  {
   "metadata": {},
   "cell_type": "markdown",
   "source": "### Part 1.6: Calculate the value of the following logical expressions:",
   "id": "d72949339853d8c8"
  },
  {
   "metadata": {
    "ExecuteTime": {
     "end_time": "2024-04-07T17:03:05.313543Z",
     "start_time": "2024-04-07T17:03:05.307764Z"
    }
   },
   "cell_type": "code",
   "source": [
    "#f, g, h\n",
    "from sympy import symbols\n",
    "from sympy.logic.boolalg import Or, And, Not, Xor\n",
    "\n",
    "# Define the symbols\n",
    "a, b, c, d, e, m, n, p = symbols('a b c d e m n p')\n",
    "\n",
    "# Define the logical expressions\n",
    "f = Or(Not(And(Or(a, b), c)), And(d, e))\n",
    "g = And(Not(Or(Not(a), Not(b))), b, c)\n",
    "h = Xor(Or(m, n), Xor(Not(m), Or(Not(n), Not(p))))\n",
    "\n",
    "# Substitute the given values\n",
    "f_val = f.subs({a: True, b: False, c: True, d: True, e: False})\n",
    "g_val = g.subs({a: True, b: False, c: True})\n",
    "h_val = h.subs({m: False, n: True, p: False})\n",
    "\n",
    "# Evaluate the expressions\n",
    "f_result = f_val.simplify()\n",
    "g_result = g_val.simplify()\n",
    "h_result = h_val.simplify()\n",
    "\n",
    "# Print the results\n",
    "print(f\"Result of f: {f_result}\")\n",
    "print(f\"Result of g: {g_result}\")\n",
    "print(f\"Result of h: {h_result}\")"
   ],
   "id": "bd71a2db3ea96c1f",
   "outputs": [
    {
     "name": "stdout",
     "output_type": "stream",
     "text": [
      "Result of f: False\n",
      "Result of g: False\n",
      "Result of h: True\n"
     ]
    }
   ],
   "execution_count": 35
  },
  {
   "metadata": {},
   "cell_type": "markdown",
   "source": [
    "# Part 2: Calculus\n",
    "### Exercise 2.1: Calculate the following limits:"
   ],
   "id": "d832d13f1876b864"
  },
  {
   "metadata": {
    "ExecuteTime": {
     "end_time": "2024-04-07T17:05:21.719995Z",
     "start_time": "2024-04-07T17:05:21.633270Z"
    }
   },
   "cell_type": "code",
   "source": [
    "#i \n",
    "expr = (sqrt(3*x)/(sqrt(5*x+sqrt(5*x+sqrt(5*x)))))\n",
    "expr.limit(x, oo)"
   ],
   "id": "ef22b0b24b8531b1",
   "outputs": [
    {
     "data": {
      "text/plain": [
       "sqrt(15)/5"
      ],
      "text/latex": "$\\displaystyle \\frac{\\sqrt{15}}{5}$"
     },
     "execution_count": 36,
     "metadata": {},
     "output_type": "execute_result"
    }
   ],
   "execution_count": 36
  },
  {
   "metadata": {
    "ExecuteTime": {
     "end_time": "2024-04-07T17:06:05.238734Z",
     "start_time": "2024-04-07T17:06:05.229071Z"
    }
   },
   "cell_type": "code",
   "source": [
    "#g\n",
    "expr = (sin(2*x))**2/1-cos(x)\n",
    "expr.limit(x, 0)"
   ],
   "id": "7be7e498f18945b6",
   "outputs": [
    {
     "data": {
      "text/plain": [
       "-1"
      ],
      "text/latex": "$\\displaystyle -1$"
     },
     "execution_count": 37,
     "metadata": {},
     "output_type": "execute_result"
    }
   ],
   "execution_count": 37
  },
  {
   "metadata": {
    "ExecuteTime": {
     "end_time": "2024-04-07T17:06:29.874653Z",
     "start_time": "2024-04-07T17:06:29.793013Z"
    }
   },
   "cell_type": "code",
   "source": [
    "#j \n",
    "from sympy.abc import x\n",
    "expr = (E**(2*x) + E**(-2*x) -2)/(x**2)\n",
    "expr.limit(x, 0)"
   ],
   "id": "3733180c8412d6b9",
   "outputs": [
    {
     "data": {
      "text/plain": [
       "4"
      ],
      "text/latex": "$\\displaystyle 4$"
     },
     "execution_count": 38,
     "metadata": {},
     "output_type": "execute_result"
    }
   ],
   "execution_count": 38
  },
  {
   "metadata": {
    "ExecuteTime": {
     "end_time": "2024-04-07T17:09:50.160141Z",
     "start_time": "2024-04-07T17:09:50.147714Z"
    }
   },
   "cell_type": "code",
   "source": [
    "#h\n",
    "expr = (x**1/3 - 1)/ (x**1/5 - 1)\n",
    "expr.limit(x, 1)"
   ],
   "id": "781428f7fa5fd441",
   "outputs": [
    {
     "data": {
      "text/plain": [
       "5/6"
      ],
      "text/latex": "$\\displaystyle \\frac{5}{6}$"
     },
     "execution_count": 39,
     "metadata": {},
     "output_type": "execute_result"
    }
   ],
   "execution_count": 39
  },
  {
   "metadata": {},
   "cell_type": "markdown",
   "source": "### Exercise 2.2: Calculate the following of the first derivatives:",
   "id": "7f16a8f28f93b6be"
  },
  {
   "metadata": {
    "ExecuteTime": {
     "end_time": "2024-04-07T17:14:10.688813Z",
     "start_time": "2024-04-07T17:14:10.668901Z"
    }
   },
   "cell_type": "code",
   "source": [
    "#f\n",
    "expr = (x**2 +1) * E**(-x**2/2)\n",
    "expr.diff(x)"
   ],
   "id": "c1ab584e68d03054",
   "outputs": [
    {
     "data": {
      "text/plain": [
       "-x*(x**2 + 1)*exp(-x**2/2) + 2*x*exp(-x**2/2)"
      ],
      "text/latex": "$\\displaystyle - x \\left(x^{2} + 1\\right) e^{- \\frac{x^{2}}{2}} + 2 x e^{- \\frac{x^{2}}{2}}$"
     },
     "execution_count": 40,
     "metadata": {},
     "output_type": "execute_result"
    }
   ],
   "execution_count": 40
  },
  {
   "metadata": {
    "ExecuteTime": {
     "end_time": "2024-04-07T17:14:25.063029Z",
     "start_time": "2024-04-07T17:14:25.056059Z"
    }
   },
   "cell_type": "code",
   "source": [
    "#e \n",
    "expr = (x**2 +1) * E**x\n",
    "expr.diff(x)"
   ],
   "id": "1ff786e6bbff760d",
   "outputs": [
    {
     "data": {
      "text/plain": [
       "2*x*exp(x) + (x**2 + 1)*exp(x)"
      ],
      "text/latex": "$\\displaystyle 2 x e^{x} + \\left(x^{2} + 1\\right) e^{x}$"
     },
     "execution_count": 41,
     "metadata": {},
     "output_type": "execute_result"
    }
   ],
   "execution_count": 41
  },
  {
   "metadata": {
    "ExecuteTime": {
     "end_time": "2024-04-07T17:14:44.880305Z",
     "start_time": "2024-04-07T17:14:44.874520Z"
    }
   },
   "cell_type": "code",
   "source": [
    "#g\n",
    "expr = 1+x/1-x+x**2\n",
    "expr.diff(x)"
   ],
   "id": "8e510dbf8ef921a",
   "outputs": [
    {
     "data": {
      "text/plain": [
       "2*x"
      ],
      "text/latex": "$\\displaystyle 2 x$"
     },
     "execution_count": 42,
     "metadata": {},
     "output_type": "execute_result"
    }
   ],
   "execution_count": 42
  },
  {
   "metadata": {
    "ExecuteTime": {
     "end_time": "2024-04-07T17:15:14.031067Z",
     "start_time": "2024-04-07T17:15:14.018069Z"
    }
   },
   "cell_type": "code",
   "source": [
    "#j \n",
    "expr = cos(2*x)/1+ln(1-x)\n",
    "expr.diff(x)"
   ],
   "id": "9a4913a0e3c0ffde",
   "outputs": [
    {
     "data": {
      "text/plain": [
       "-2*sin(2*x) - 1/(1 - x)"
      ],
      "text/latex": "$\\displaystyle - 2 \\sin{\\left(2 x \\right)} - \\frac{1}{1 - x}$"
     },
     "execution_count": 43,
     "metadata": {},
     "output_type": "execute_result"
    }
   ],
   "execution_count": 43
  },
  {
   "metadata": {},
   "cell_type": "markdown",
   "source": "### Exercise 2.3: Find the following primitives:",
   "id": "621447cc5d92ec64"
  },
  {
   "metadata": {
    "ExecuteTime": {
     "end_time": "2024-04-07T17:16:22.160683Z",
     "start_time": "2024-04-07T17:16:22.056954Z"
    }
   },
   "cell_type": "code",
   "source": [
    "#c \n",
    "expr = 1/4 - x**2\n",
    "expr.integrate(x)"
   ],
   "id": "85d999cd8ea095fd",
   "outputs": [
    {
     "data": {
      "text/plain": [
       "-0.333333333333333*x**3 + 0.25*x"
      ],
      "text/latex": "$\\displaystyle - 0.333333333333333 x^{3} + 0.25 x$"
     },
     "execution_count": 44,
     "metadata": {},
     "output_type": "execute_result"
    }
   ],
   "execution_count": 44
  },
  {
   "metadata": {
    "ExecuteTime": {
     "end_time": "2024-04-07T17:17:21.909576Z",
     "start_time": "2024-04-07T17:17:21.874276Z"
    }
   },
   "cell_type": "code",
   "source": [
    "#e \n",
    "expr = E**-(x**2)\n",
    "expr.integrate(x)"
   ],
   "id": "3cdf0538350c2d56",
   "outputs": [
    {
     "data": {
      "text/plain": [
       "sqrt(pi)*erf(x)/2"
      ],
      "text/latex": "$\\displaystyle \\frac{\\sqrt{\\pi} \\operatorname{erf}{\\left(x \\right)}}{2}$"
     },
     "execution_count": 47,
     "metadata": {},
     "output_type": "execute_result"
    }
   ],
   "execution_count": 47
  },
  {
   "metadata": {
    "ExecuteTime": {
     "end_time": "2024-04-07T17:17:40.159767Z",
     "start_time": "2024-04-07T17:17:40.135936Z"
    }
   },
   "cell_type": "code",
   "source": [
    "#d\n",
    "expr = 1/x**2-x-6\n",
    "expr.integrate(x)"
   ],
   "id": "f6c7a7ccc06f38d7",
   "outputs": [
    {
     "data": {
      "text/plain": [
       "-x**2/2 - 6*x - 1/x"
      ],
      "text/latex": "$\\displaystyle - \\frac{x^{2}}{2} - 6 x - \\frac{1}{x}$"
     },
     "execution_count": 48,
     "metadata": {},
     "output_type": "execute_result"
    }
   ],
   "execution_count": 48
  },
  {
   "metadata": {
    "ExecuteTime": {
     "end_time": "2024-04-07T17:17:57.830891Z",
     "start_time": "2024-04-07T17:17:57.793663Z"
    }
   },
   "cell_type": "code",
   "source": [
    "#f\n",
    "expr = log(x)**2 \n",
    "expr.integrate(x)"
   ],
   "id": "710bff3617c5180e",
   "outputs": [
    {
     "data": {
      "text/plain": [
       "x*log(x)**2 - 2*x*log(x) + 2*x"
      ],
      "text/latex": "$\\displaystyle x \\log{\\left(x \\right)}^{2} - 2 x \\log{\\left(x \\right)} + 2 x$"
     },
     "execution_count": 49,
     "metadata": {},
     "output_type": "execute_result"
    }
   ],
   "execution_count": 49
  },
  {
   "metadata": {},
   "cell_type": "markdown",
   "source": "### Exercise 2.4: Calculate the following definite integrals:",
   "id": "93e3ef1dc3de85bd"
  },
  {
   "metadata": {
    "ExecuteTime": {
     "end_time": "2024-04-07T17:18:46.678567Z",
     "start_time": "2024-04-07T17:18:46.556521Z"
    }
   },
   "cell_type": "code",
   "source": [
    "#i\n",
    "expr = 1/(x**2 + 1)**2\n",
    "expr.integrate((x, -oo, oo))"
   ],
   "id": "9007cb1792cc62dd",
   "outputs": [
    {
     "data": {
      "text/plain": [
       "pi/2"
      ],
      "text/latex": "$\\displaystyle \\frac{\\pi}{2}$"
     },
     "execution_count": 50,
     "metadata": {},
     "output_type": "execute_result"
    }
   ],
   "execution_count": 50
  },
  {
   "metadata": {
    "ExecuteTime": {
     "end_time": "2024-04-07T17:19:33.675034Z",
     "start_time": "2024-04-07T17:19:33.237978Z"
    }
   },
   "cell_type": "code",
   "source": [
    "#j\n",
    "expr = 1/x*ln(x)*(ln(ln(x)))**2\n",
    "expr.integrate((x, E**2, oo))"
   ],
   "id": "eea66930d12ab032",
   "outputs": [
    {
     "data": {
      "text/plain": [
       "oo"
      ],
      "text/latex": "$\\displaystyle \\infty$"
     },
     "execution_count": 51,
     "metadata": {},
     "output_type": "execute_result"
    }
   ],
   "execution_count": 51
  },
  {
   "metadata": {
    "ExecuteTime": {
     "end_time": "2024-04-07T17:22:02.497415Z",
     "start_time": "2024-04-07T17:22:02.444115Z"
    }
   },
   "cell_type": "code",
   "source": [
    "#h\n",
    "expr = 3/(sqrt(1-9*x**2))\n",
    "expr.integrate((x, 1/6, 1/3))"
   ],
   "id": "816ebde032e6b15",
   "outputs": [
    {
     "data": {
      "text/plain": [
       "1.04719755119660"
      ],
      "text/latex": "$\\displaystyle 1.0471975511966$"
     },
     "execution_count": 55,
     "metadata": {},
     "output_type": "execute_result"
    }
   ],
   "execution_count": 55
  },
  {
   "metadata": {
    "ExecuteTime": {
     "end_time": "2024-04-07T17:22:49.463055Z",
     "start_time": "2024-04-07T17:22:49.449651Z"
    }
   },
   "cell_type": "code",
   "source": [
    "#g\n",
    "expr = 1/(1-x)**2\n",
    "expr.integrate((x, -oo, 0))"
   ],
   "id": "c56202ebfbab269",
   "outputs": [
    {
     "data": {
      "text/plain": [
       "1"
      ],
      "text/latex": "$\\displaystyle 1$"
     },
     "execution_count": 57,
     "metadata": {},
     "output_type": "execute_result"
    }
   ],
   "execution_count": 57
  },
  {
   "metadata": {},
   "cell_type": "markdown",
   "source": "### Exercise 2.5: Solve the following differential equations:",
   "id": "7a631276e2e4c7ac"
  },
  {
   "metadata": {
    "ExecuteTime": {
     "end_time": "2024-04-07T17:24:29.564519Z",
     "start_time": "2024-04-07T17:23:50.819517Z"
    }
   },
   "cell_type": "code",
   "source": [
    "x = Symbol('x')\n",
    "y = Function('y')\n",
    "dsolve(Eq(sqrt(y(x))*y(x).diff(x, 2), y(x)), y(x))"
   ],
   "id": "a1bfb45ec6247abe",
   "outputs": [
    {
     "data": {
      "text/plain": [
       "[Eq(2*y(x)*gamma(2/3)*hyper((1/2, 2/3), (5/3,), 4*exp_polar(I*pi)*y(x)**(3/2)/(3*C1))/(3*sqrt(C1)*gamma(5/3)), C2 + x),\n",
       " Eq(2*y(x)*gamma(2/3)*hyper((1/2, 2/3), (5/3,), 4*exp_polar(I*pi)*y(x)**(3/2)/(3*C1))/(3*sqrt(C1)*gamma(5/3)), C2 - x)]"
      ]
     },
     "execution_count": 58,
     "metadata": {},
     "output_type": "execute_result"
    }
   ],
   "execution_count": 58
  },
  {
   "metadata": {
    "ExecuteTime": {
     "end_time": "2024-04-07T17:26:48.700130Z",
     "start_time": "2024-04-07T17:26:48.304121Z"
    }
   },
   "cell_type": "code",
   "source": [
    "from sympy import symbols, Function, dsolve, Eq, sin, cos, log\n",
    "\n",
    "# Define the symbols\n",
    "x = symbols('x')\n",
    "\n",
    "# Define the function\n",
    "y = Function('y')(x)\n",
    "\n",
    "# Define the differential equations\n",
    "f = Eq(x*y.diff(x) + y, y**2 * log(x))\n",
    "g = Eq(y.diff(x, x), x + 1)\n",
    "h = Eq(y.diff(x, x) + y, sin(x) + cos(2*x))\n",
    "\n",
    "# Solve the differential equations\n",
    "f_solution = dsolve(f)\n",
    "g_solution = dsolve(g)\n",
    "h_solution = dsolve(h)\n",
    "\n",
    "# Print the solutions\n",
    "print(f\"Solution of f: {f_solution}\")\n",
    "print(f\"Solution of g: {g_solution}\")\n",
    "print(f\"Solution of h: {h_solution}\")"
   ],
   "id": "73dd0c274eed18ad",
   "outputs": [
    {
     "name": "stdout",
     "output_type": "stream",
     "text": [
      "Solution of f: Eq(y(x), 1/(C1*x + log(x) + 1))\n",
      "Solution of g: Eq(y(x), C1 + C2*x + x**3/6 + x**2/2)\n",
      "Solution of h: Eq(y(x), C2*sin(x) + (C1 - x/2)*cos(x) - cos(2*x)/3)\n"
     ]
    }
   ],
   "execution_count": 59
  },
  {
   "metadata": {},
   "cell_type": "markdown",
   "source": [
    "# Part 3: Geometry\n",
    "### Exercise 3: Simplify the following geometric properties:"
   ],
   "id": "4ca712e6be5668e6"
  },
  {
   "metadata": {
    "ExecuteTime": {
     "end_time": "2024-04-07T17:30:40.181798Z",
     "start_time": "2024-04-07T17:30:40.097447Z"
    }
   },
   "cell_type": "code",
   "source": [
    "from sympy import symbols, sin, cos, tan, cot, simplify\n",
    "\n",
    "# Define the symbol\n",
    "x = symbols('x')\n",
    "\n",
    "# Define the expressions\n",
    "T1 = sin(x) / cos(x)\n",
    "T2 = tan(x) * cos(x)\n",
    "T3 = (tan(x)**2 + 1) / (1 + cot(x)**2)\n",
    "T4 = sin(x)**2 + cos(x)**2\n",
    "\n",
    "# Simplify the expressions\n",
    "T1_simplified = simplify(T1)\n",
    "T2_simplified = simplify(T2)\n",
    "T3_simplified = simplify(T3)\n",
    "T4_simplified = simplify(T4)\n",
    "\n",
    "# Print the simplified expressions\n",
    "print(f\"Simplified T1: {T1_simplified}\")\n",
    "print(f\"Simplified T2: {T2_simplified}\")\n",
    "print(f\"Simplified T3: {T3_simplified}\")\n",
    "print(f\"Simplified T4: {T4_simplified}\")"
   ],
   "id": "a5f4b06a8203b31c",
   "outputs": [
    {
     "name": "stdout",
     "output_type": "stream",
     "text": [
      "Simplified T1: tan(x)\n",
      "Simplified T2: sin(x)\n",
      "Simplified T3: tan(x)**2\n",
      "Simplified T4: 1\n"
     ]
    }
   ],
   "execution_count": 60
  },
  {
   "metadata": {
    "ExecuteTime": {
     "end_time": "2024-04-07T17:33:30.252813Z",
     "start_time": "2024-04-07T17:33:29.999069Z"
    }
   },
   "cell_type": "code",
   "source": [
    "from sympy import symbols, sin, cos, tan, cot, simplify\n",
    "\n",
    "# Define the symbol\n",
    "x = symbols('x')\n",
    "\n",
    "# Define the expressions\n",
    "T5 = sin(4*x)*sin(10*x) - sin(11*x)*sin(3*x) - sin(7*x)*sin(x)\n",
    "T6 = 1+sin(2*x) - cos(2*x)/ 1+sin(2*x)+ cos(2*x)\n",
    "T7 = cos(x)**2 + cos(x-pi/3)**2 + cos(2*pi/3-x)**2\n",
    "\n",
    "# Simplify the expressions\n",
    "T5_simplified = simplify(T5)\n",
    "T6_simplified = simplify(T6)\n",
    "T7_simplified = simplify(T7)\n",
    "\n",
    "# Print the simplified expressions\n",
    "print(f\"Simplified T5: {T5_simplified}\")\n",
    "print(f\"Simplified T6: {T6_simplified}\")\n",
    "print(f\"Simplified T7: {T7_simplified}\")"
   ],
   "id": "d13c61245fbc631c",
   "outputs": [
    {
     "name": "stdout",
     "output_type": "stream",
     "text": [
      "Simplified T5: 0\n",
      "Simplified T6: 2*sin(2*x) + 1\n",
      "Simplified T7: 3/2\n"
     ]
    }
   ],
   "execution_count": 61
  }
 ],
 "metadata": {
  "kernelspec": {
   "display_name": "Python 3",
   "language": "python",
   "name": "python3"
  },
  "language_info": {
   "codemirror_mode": {
    "name": "ipython",
    "version": 2
   },
   "file_extension": ".py",
   "mimetype": "text/x-python",
   "name": "python",
   "nbconvert_exporter": "python",
   "pygments_lexer": "ipython2",
   "version": "2.7.6"
  }
 },
 "nbformat": 4,
 "nbformat_minor": 5
}
