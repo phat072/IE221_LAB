{
 "cells": [
  {
   "metadata": {},
   "cell_type": "markdown",
   "source": [
    "## Part 1: Algebra\n",
    "### Exercise 1.1: Calculate the value of the following expressions:"
   ],
   "id": "ac7165a1b8d44197"
  },
  {
   "metadata": {
    "ExecuteTime": {
     "end_time": "2024-04-07T16:52:52.100926Z",
     "start_time": "2024-04-07T16:52:52.098016Z"
    }
   },
   "cell_type": "code",
   "source": "from sympy import *",
   "id": "97b654b49f0c4b91",
   "outputs": [],
   "execution_count": 10
  },
  {
   "metadata": {
    "ExecuteTime": {
     "end_time": "2024-04-07T16:52:52.130838Z",
     "start_time": "2024-04-07T16:52:52.125853Z"
    }
   },
   "cell_type": "code",
   "source": [
    "from sympy.abc import x\n",
    "#h\n",
    "expr = 5*x**3 + 2*x**4 - x**2 + 3*x**2 - x**3 - x**4 + 1 - 4*x**3\n",
    "expr.evalf(subs={x:-1})"
   ],
   "id": "a65c30d9a5b26710",
   "outputs": [
    {
     "data": {
      "text/plain": [
       "4.00000000000000"
      ],
      "text/latex": "$\\displaystyle 4.0$"
     },
     "execution_count": 11,
     "metadata": {},
     "output_type": "execute_result"
    }
   ],
   "execution_count": 11
  },
  {
   "metadata": {
    "ExecuteTime": {
     "end_time": "2024-04-07T16:52:52.153849Z",
     "start_time": "2024-04-07T16:52:52.145902Z"
    }
   },
   "cell_type": "code",
   "source": [
    "#i\n",
    "expr1 = sin(x)/x + 1/2*(cos(x)) - 2/tan(x)**2\n",
    "expr.evalf(subs={x:pi/3})"
   ],
   "id": "3b69320a76151fcf",
   "outputs": [
    {
     "data": {
      "text/plain": [
       "4.39582679325446"
      ],
      "text/latex": "$\\displaystyle 4.39582679325446$"
     },
     "execution_count": 12,
     "metadata": {},
     "output_type": "execute_result"
    }
   ],
   "execution_count": 12
  },
  {
   "metadata": {},
   "cell_type": "markdown",
   "source": "### Exercise 1.2: Expand the following polynomials:",
   "id": "52a90146e592045b"
  },
  {
   "metadata": {
    "ExecuteTime": {
     "end_time": "2024-04-07T16:52:52.170846Z",
     "start_time": "2024-04-07T16:52:52.155508Z"
    }
   },
   "cell_type": "code",
   "source": [
    "#h, i, j\n",
    "from sympy.abc import x,y,z\n",
    "A8 = 5*(0.2*x**2 - 3*x)*(x**2 - 7*x + 3)\n",
    "A9 = 12*x**2*y**2*(2*x + y)*(2*x - y)\n",
    "A10 = (x**3 + x**2*y + x*y**2 + y**3)*(x - y)\n",
    "\n",
    "A8.expand()"
   ],
   "id": "b721249aa6aa94c6",
   "outputs": [
    {
     "data": {
      "text/plain": [
       "x**4 - 22*x**3 + 108*x**2 - 45*x"
      ],
      "text/latex": "$\\displaystyle x^{4} - 22 x^{3} + 108 x^{2} - 45 x$"
     },
     "execution_count": 13,
     "metadata": {},
     "output_type": "execute_result"
    }
   ],
   "execution_count": 13
  },
  {
   "metadata": {
    "ExecuteTime": {
     "end_time": "2024-04-07T16:52:52.183231Z",
     "start_time": "2024-04-07T16:52:52.172014Z"
    }
   },
   "cell_type": "code",
   "source": "A9.expand()",
   "id": "7d60dff68e8ad3af",
   "outputs": [
    {
     "data": {
      "text/plain": [
       "48*x**4*y**2 - 12*x**2*y**4"
      ],
      "text/latex": "$\\displaystyle 48 x^{4} y^{2} - 12 x^{2} y^{4}$"
     },
     "execution_count": 14,
     "metadata": {},
     "output_type": "execute_result"
    }
   ],
   "execution_count": 14
  },
  {
   "metadata": {
    "ExecuteTime": {
     "end_time": "2024-04-07T16:52:52.198831Z",
     "start_time": "2024-04-07T16:52:52.192446Z"
    }
   },
   "cell_type": "code",
   "source": "A10.expand()",
   "id": "7893590735ef8872",
   "outputs": [
    {
     "data": {
      "text/plain": [
       "x**4 - y**4"
      ],
      "text/latex": "$\\displaystyle x^{4} - y^{4}$"
     },
     "execution_count": 15,
     "metadata": {},
     "output_type": "execute_result"
    }
   ],
   "execution_count": 15
  },
  {
   "metadata": {},
   "cell_type": "markdown",
   "source": "### Exercise 1.3: Factorize the following polynomials:",
   "id": "be6a5f415c30dbb7"
  },
  {
   "metadata": {
    "ExecuteTime": {
     "end_time": "2024-04-07T16:52:52.206126Z",
     "start_time": "2024-04-07T16:52:52.200272Z"
    }
   },
   "cell_type": "code",
   "source": [
    "from sympy.abc import x, y, a, b, z\n",
    "\n",
    "#h, i, j, f\n",
    "B6 = 5*x**2*y*z + 5*x*y**2*z - 5*x*y*z \n",
    "B8 = 4*x**2 - 25 + (2*x + 7)*(5 - 2*x)\n",
    "B9 = a*x - b*x - a**2 + 2*a*b - b**2\n",
    "B10 = x**10 + x**5 + 1"
   ],
   "id": "4bfda5fd0e58778e",
   "outputs": [],
   "execution_count": 16
  },
  {
   "metadata": {
    "ExecuteTime": {
     "end_time": "2024-04-07T16:52:52.221405Z",
     "start_time": "2024-04-07T16:52:52.211407Z"
    }
   },
   "cell_type": "code",
   "source": "B8.factor()",
   "id": "63c4dc9450f694d4",
   "outputs": [
    {
     "data": {
      "text/plain": [
       "-2*(2*x - 5)"
      ],
      "text/latex": "$\\displaystyle - 2 \\cdot \\left(2 x - 5\\right)$"
     },
     "execution_count": 17,
     "metadata": {},
     "output_type": "execute_result"
    }
   ],
   "execution_count": 17
  },
  {
   "metadata": {
    "ExecuteTime": {
     "end_time": "2024-04-07T16:52:52.236816Z",
     "start_time": "2024-04-07T16:52:52.225268Z"
    }
   },
   "cell_type": "code",
   "source": "B9.factor()",
   "id": "8f150061297c41b3",
   "outputs": [
    {
     "data": {
      "text/plain": [
       "(a - b)*(-a + b + x)"
      ],
      "text/latex": "$\\displaystyle \\left(a - b\\right) \\left(- a + b + x\\right)$"
     },
     "execution_count": 18,
     "metadata": {},
     "output_type": "execute_result"
    }
   ],
   "execution_count": 18
  },
  {
   "metadata": {
    "ExecuteTime": {
     "end_time": "2024-04-07T16:52:52.272982Z",
     "start_time": "2024-04-07T16:52:52.261732Z"
    }
   },
   "cell_type": "code",
   "source": "B10.factor()",
   "id": "228a53e758c107ca",
   "outputs": [
    {
     "data": {
      "text/plain": [
       "(x**2 + x + 1)*(x**8 - x**7 + x**5 - x**4 + x**3 - x + 1)"
      ],
      "text/latex": "$\\displaystyle \\left(x^{2} + x + 1\\right) \\left(x^{8} - x^{7} + x^{5} - x^{4} + x^{3} - x + 1\\right)$"
     },
     "execution_count": 19,
     "metadata": {},
     "output_type": "execute_result"
    }
   ],
   "execution_count": 19
  },
  {
   "metadata": {
    "ExecuteTime": {
     "end_time": "2024-04-07T16:52:52.284816Z",
     "start_time": "2024-04-07T16:52:52.274674Z"
    }
   },
   "cell_type": "code",
   "source": "B6.factor()",
   "id": "72444efc44456f29",
   "outputs": [
    {
     "data": {
      "text/plain": [
       "5*x*y*z*(x + y - 1)"
      ],
      "text/latex": "$\\displaystyle 5 x y z \\left(x + y - 1\\right)$"
     },
     "execution_count": 20,
     "metadata": {},
     "output_type": "execute_result"
    }
   ],
   "execution_count": 20
  },
  {
   "metadata": {},
   "cell_type": "markdown",
   "source": "### Exercise 1.4: Solve the following algebraic equations on the set of real numbers:",
   "id": "a1c969ad3ba74e0e"
  },
  {
   "metadata": {
    "ExecuteTime": {
     "end_time": "2024-04-07T16:52:52.314895Z",
     "start_time": "2024-04-07T16:52:52.285990Z"
    }
   },
   "cell_type": "code",
   "source": [
    "from sympy.abc import x, y, z\n",
    "#f\n",
    "solveset(Eq(x*(x**2-1) , sqrt(2)), x, domain=S.Reals)"
   ],
   "id": "8f6573743773e9d3",
   "outputs": [
    {
     "data": {
      "text/plain": [
       "{sqrt(2)}"
      ],
      "text/latex": "$\\displaystyle \\left\\{\\sqrt{2}\\right\\}$"
     },
     "execution_count": 21,
     "metadata": {},
     "output_type": "execute_result"
    }
   ],
   "execution_count": 21
  },
  {
   "metadata": {
    "ExecuteTime": {
     "end_time": "2024-04-07T16:54:16.092839Z",
     "start_time": "2024-04-07T16:54:15.236233Z"
    }
   },
   "cell_type": "code",
   "source": [
    "#g\n",
    "solveset(Eq(((8*x**3+2001)/2002)**3, (4004*x-2001)), x, domain=S.Reals)"
   ],
   "id": "ef2193442e7f1b88",
   "outputs": [
    {
     "data": {
      "text/plain": [
       "{1/2, -1/4 + sqrt(8005)/4, -sqrt(8005)/4 - 1/4}"
      ],
      "text/latex": "$\\displaystyle \\left\\{\\frac{1}{2}, - \\frac{1}{4} + \\frac{\\sqrt{8005}}{4}, - \\frac{\\sqrt{8005}}{4} - \\frac{1}{4}\\right\\}$"
     },
     "execution_count": 22,
     "metadata": {},
     "output_type": "execute_result"
    }
   ],
   "execution_count": 22
  },
  {
   "metadata": {
    "ExecuteTime": {
     "end_time": "2024-04-07T16:55:16.996035Z",
     "start_time": "2024-04-07T16:55:16.971144Z"
    }
   },
   "cell_type": "code",
   "source": [
    "#j\n",
    "solveset(Eq(2*sqrt(2)/sqrt(x+1) +sqrt(x), sqrt(x+9)), x, domain=S.Reals)"
   ],
   "id": "603c7e07043cd2c8",
   "outputs": [
    {
     "data": {
      "text/plain": [
       "{1/7}"
      ],
      "text/latex": "$\\displaystyle \\left\\{\\frac{1}{7}\\right\\}$"
     },
     "execution_count": 24,
     "metadata": {},
     "output_type": "execute_result"
    }
   ],
   "execution_count": 24
  }
 ],
 "metadata": {
  "kernelspec": {
   "display_name": "Python 3",
   "language": "python",
   "name": "python3"
  },
  "language_info": {
   "codemirror_mode": {
    "name": "ipython",
    "version": 2
   },
   "file_extension": ".py",
   "mimetype": "text/x-python",
   "name": "python",
   "nbconvert_exporter": "python",
   "pygments_lexer": "ipython2",
   "version": "2.7.6"
  }
 },
 "nbformat": 4,
 "nbformat_minor": 5
}
